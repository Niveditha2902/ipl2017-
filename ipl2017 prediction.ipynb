{
  "nbformat": 4,
  "nbformat_minor": 0,
  "metadata": {
    "kernelspec": {
      "display_name": "Python 3",
      "language": "python",
      "name": "python3"
    },
    "language_info": {
      "codemirror_mode": {
        "name": "ipython",
        "version": 3
      },
      "file_extension": ".py",
      "mimetype": "text/x-python",
      "name": "python",
      "nbconvert_exporter": "python",
      "pygments_lexer": "ipython3",
      "version": "3.8.3"
    },
    "colab": {
      "name": " ML-MAJOR-AUG-ML082B9.ipynb",
      "provenance": []
    }
  },
  "cells": [
    {
      "cell_type": "markdown",
      "metadata": {
        "id": "Iblpnde-pOrd"
      },
      "source": [
        "# 1. handling the missing values"
      ]
    },
    {
      "cell_type": "code",
      "metadata": {
        "id": "7sDh5Fi2pOrr"
      },
      "source": [
        "import pandas as pd"
      ],
      "execution_count": null,
      "outputs": []
    },
    {
      "cell_type": "code",
      "metadata": {
        "id": "DDVxe-M2pOrw"
      },
      "source": [
        "df=pd.read_csv(\"ipl2017.csv\")"
      ],
      "execution_count": null,
      "outputs": []
    },
    {
      "cell_type": "code",
      "metadata": {
        "id": "NaDjitgNpOrw",
        "outputId": "3018b524-be40-4bb7-97ab-460004368d23"
      },
      "source": [
        "df.head()"
      ],
      "execution_count": null,
      "outputs": [
        {
          "data": {
            "text/html": [
              "<div>\n",
              "<style scoped>\n",
              "    .dataframe tbody tr th:only-of-type {\n",
              "        vertical-align: middle;\n",
              "    }\n",
              "\n",
              "    .dataframe tbody tr th {\n",
              "        vertical-align: top;\n",
              "    }\n",
              "\n",
              "    .dataframe thead th {\n",
              "        text-align: right;\n",
              "    }\n",
              "</style>\n",
              "<table border=\"1\" class=\"dataframe\">\n",
              "  <thead>\n",
              "    <tr style=\"text-align: right;\">\n",
              "      <th></th>\n",
              "      <th>mid</th>\n",
              "      <th>date</th>\n",
              "      <th>venue</th>\n",
              "      <th>bat_team</th>\n",
              "      <th>bowl_team</th>\n",
              "      <th>batsman</th>\n",
              "      <th>bowler</th>\n",
              "      <th>runs</th>\n",
              "      <th>wickets</th>\n",
              "      <th>overs</th>\n",
              "      <th>runs_last_5</th>\n",
              "      <th>wickets_last_5</th>\n",
              "      <th>striker</th>\n",
              "      <th>non-striker</th>\n",
              "      <th>total</th>\n",
              "    </tr>\n",
              "  </thead>\n",
              "  <tbody>\n",
              "    <tr>\n",
              "      <th>0</th>\n",
              "      <td>1</td>\n",
              "      <td>2008-04-18</td>\n",
              "      <td>M Chinnaswamy Stadium</td>\n",
              "      <td>Kolkata Knight Riders</td>\n",
              "      <td>Royal Challengers Bangalore</td>\n",
              "      <td>SC Ganguly</td>\n",
              "      <td>P Kumar</td>\n",
              "      <td>1</td>\n",
              "      <td>0</td>\n",
              "      <td>0.1</td>\n",
              "      <td>1</td>\n",
              "      <td>0</td>\n",
              "      <td>0</td>\n",
              "      <td>0</td>\n",
              "      <td>222</td>\n",
              "    </tr>\n",
              "    <tr>\n",
              "      <th>1</th>\n",
              "      <td>1</td>\n",
              "      <td>2008-04-18</td>\n",
              "      <td>M Chinnaswamy Stadium</td>\n",
              "      <td>Kolkata Knight Riders</td>\n",
              "      <td>Royal Challengers Bangalore</td>\n",
              "      <td>BB McCullum</td>\n",
              "      <td>P Kumar</td>\n",
              "      <td>1</td>\n",
              "      <td>0</td>\n",
              "      <td>0.2</td>\n",
              "      <td>1</td>\n",
              "      <td>0</td>\n",
              "      <td>0</td>\n",
              "      <td>0</td>\n",
              "      <td>222</td>\n",
              "    </tr>\n",
              "    <tr>\n",
              "      <th>2</th>\n",
              "      <td>1</td>\n",
              "      <td>2008-04-18</td>\n",
              "      <td>M Chinnaswamy Stadium</td>\n",
              "      <td>Kolkata Knight Riders</td>\n",
              "      <td>Royal Challengers Bangalore</td>\n",
              "      <td>BB McCullum</td>\n",
              "      <td>P Kumar</td>\n",
              "      <td>2</td>\n",
              "      <td>0</td>\n",
              "      <td>0.2</td>\n",
              "      <td>2</td>\n",
              "      <td>0</td>\n",
              "      <td>0</td>\n",
              "      <td>0</td>\n",
              "      <td>222</td>\n",
              "    </tr>\n",
              "    <tr>\n",
              "      <th>3</th>\n",
              "      <td>1</td>\n",
              "      <td>2008-04-18</td>\n",
              "      <td>M Chinnaswamy Stadium</td>\n",
              "      <td>Kolkata Knight Riders</td>\n",
              "      <td>Royal Challengers Bangalore</td>\n",
              "      <td>BB McCullum</td>\n",
              "      <td>P Kumar</td>\n",
              "      <td>2</td>\n",
              "      <td>0</td>\n",
              "      <td>0.3</td>\n",
              "      <td>2</td>\n",
              "      <td>0</td>\n",
              "      <td>0</td>\n",
              "      <td>0</td>\n",
              "      <td>222</td>\n",
              "    </tr>\n",
              "    <tr>\n",
              "      <th>4</th>\n",
              "      <td>1</td>\n",
              "      <td>2008-04-18</td>\n",
              "      <td>M Chinnaswamy Stadium</td>\n",
              "      <td>Kolkata Knight Riders</td>\n",
              "      <td>Royal Challengers Bangalore</td>\n",
              "      <td>BB McCullum</td>\n",
              "      <td>P Kumar</td>\n",
              "      <td>2</td>\n",
              "      <td>0</td>\n",
              "      <td>0.4</td>\n",
              "      <td>2</td>\n",
              "      <td>0</td>\n",
              "      <td>0</td>\n",
              "      <td>0</td>\n",
              "      <td>222</td>\n",
              "    </tr>\n",
              "  </tbody>\n",
              "</table>\n",
              "</div>"
            ],
            "text/plain": [
              "   mid        date                  venue               bat_team  \\\n",
              "0    1  2008-04-18  M Chinnaswamy Stadium  Kolkata Knight Riders   \n",
              "1    1  2008-04-18  M Chinnaswamy Stadium  Kolkata Knight Riders   \n",
              "2    1  2008-04-18  M Chinnaswamy Stadium  Kolkata Knight Riders   \n",
              "3    1  2008-04-18  M Chinnaswamy Stadium  Kolkata Knight Riders   \n",
              "4    1  2008-04-18  M Chinnaswamy Stadium  Kolkata Knight Riders   \n",
              "\n",
              "                     bowl_team      batsman   bowler  runs  wickets  overs  \\\n",
              "0  Royal Challengers Bangalore   SC Ganguly  P Kumar     1        0    0.1   \n",
              "1  Royal Challengers Bangalore  BB McCullum  P Kumar     1        0    0.2   \n",
              "2  Royal Challengers Bangalore  BB McCullum  P Kumar     2        0    0.2   \n",
              "3  Royal Challengers Bangalore  BB McCullum  P Kumar     2        0    0.3   \n",
              "4  Royal Challengers Bangalore  BB McCullum  P Kumar     2        0    0.4   \n",
              "\n",
              "   runs_last_5  wickets_last_5  striker  non-striker  total  \n",
              "0            1               0        0            0    222  \n",
              "1            1               0        0            0    222  \n",
              "2            2               0        0            0    222  \n",
              "3            2               0        0            0    222  \n",
              "4            2               0        0            0    222  "
            ]
          },
          "execution_count": 37,
          "metadata": {},
          "output_type": "execute_result"
        }
      ]
    },
    {
      "cell_type": "code",
      "metadata": {
        "id": "9w_S9SqQpOrx",
        "outputId": "b3c0e040-90f9-4b3a-ba52-1a8430dbcdb5"
      },
      "source": [
        "df.info()"
      ],
      "execution_count": null,
      "outputs": [
        {
          "name": "stdout",
          "output_type": "stream",
          "text": [
            "<class 'pandas.core.frame.DataFrame'>\n",
            "RangeIndex: 76014 entries, 0 to 76013\n",
            "Data columns (total 15 columns):\n",
            " #   Column          Non-Null Count  Dtype  \n",
            "---  ------          --------------  -----  \n",
            " 0   mid             76014 non-null  int64  \n",
            " 1   date            76014 non-null  object \n",
            " 2   venue           76014 non-null  object \n",
            " 3   bat_team        76014 non-null  object \n",
            " 4   bowl_team       76014 non-null  object \n",
            " 5   batsman         76014 non-null  object \n",
            " 6   bowler          76014 non-null  object \n",
            " 7   runs            76014 non-null  int64  \n",
            " 8   wickets         76014 non-null  int64  \n",
            " 9   overs           76014 non-null  float64\n",
            " 10  runs_last_5     76014 non-null  int64  \n",
            " 11  wickets_last_5  76014 non-null  int64  \n",
            " 12  striker         76014 non-null  int64  \n",
            " 13  non-striker     76014 non-null  int64  \n",
            " 14  total           76014 non-null  int64  \n",
            "dtypes: float64(1), int64(8), object(6)\n",
            "memory usage: 8.7+ MB\n"
          ]
        }
      ]
    },
    {
      "cell_type": "code",
      "metadata": {
        "id": "GPKBwWdupOry",
        "outputId": "cc6ae0d2-38f5-48de-e229-a23dc5ec999a"
      },
      "source": [
        "df.isnull().sum() #counting missing values"
      ],
      "execution_count": null,
      "outputs": [
        {
          "data": {
            "text/plain": [
              "mid               0\n",
              "date              0\n",
              "venue             0\n",
              "bat_team          0\n",
              "bowl_team         0\n",
              "batsman           0\n",
              "bowler            0\n",
              "runs              0\n",
              "wickets           0\n",
              "overs             0\n",
              "runs_last_5       0\n",
              "wickets_last_5    0\n",
              "striker           0\n",
              "non-striker       0\n",
              "total             0\n",
              "dtype: int64"
            ]
          },
          "execution_count": 39,
          "metadata": {},
          "output_type": "execute_result"
        }
      ]
    },
    {
      "cell_type": "markdown",
      "metadata": {
        "id": "sbcWb0OOpOry"
      },
      "source": [
        "there are no missing values in this dataset"
      ]
    },
    {
      "cell_type": "markdown",
      "metadata": {
        "id": "K_BxoL86pOrz"
      },
      "source": [
        "# 2.drop the unnecessary columns"
      ]
    },
    {
      "cell_type": "code",
      "metadata": {
        "id": "nKLS1NW2pOrz"
      },
      "source": [
        "df=df.drop([\"mid\",\"date\"],axis=1)"
      ],
      "execution_count": null,
      "outputs": []
    },
    {
      "cell_type": "code",
      "metadata": {
        "id": "vI64NTHrpOr0",
        "outputId": "2aa3cd21-364d-4b8b-8082-586032a8f7c7"
      },
      "source": [
        "df.head()"
      ],
      "execution_count": null,
      "outputs": [
        {
          "data": {
            "text/html": [
              "<div>\n",
              "<style scoped>\n",
              "    .dataframe tbody tr th:only-of-type {\n",
              "        vertical-align: middle;\n",
              "    }\n",
              "\n",
              "    .dataframe tbody tr th {\n",
              "        vertical-align: top;\n",
              "    }\n",
              "\n",
              "    .dataframe thead th {\n",
              "        text-align: right;\n",
              "    }\n",
              "</style>\n",
              "<table border=\"1\" class=\"dataframe\">\n",
              "  <thead>\n",
              "    <tr style=\"text-align: right;\">\n",
              "      <th></th>\n",
              "      <th>venue</th>\n",
              "      <th>bat_team</th>\n",
              "      <th>bowl_team</th>\n",
              "      <th>batsman</th>\n",
              "      <th>bowler</th>\n",
              "      <th>runs</th>\n",
              "      <th>wickets</th>\n",
              "      <th>overs</th>\n",
              "      <th>runs_last_5</th>\n",
              "      <th>wickets_last_5</th>\n",
              "      <th>striker</th>\n",
              "      <th>non-striker</th>\n",
              "      <th>total</th>\n",
              "    </tr>\n",
              "  </thead>\n",
              "  <tbody>\n",
              "    <tr>\n",
              "      <th>0</th>\n",
              "      <td>M Chinnaswamy Stadium</td>\n",
              "      <td>Kolkata Knight Riders</td>\n",
              "      <td>Royal Challengers Bangalore</td>\n",
              "      <td>SC Ganguly</td>\n",
              "      <td>P Kumar</td>\n",
              "      <td>1</td>\n",
              "      <td>0</td>\n",
              "      <td>0.1</td>\n",
              "      <td>1</td>\n",
              "      <td>0</td>\n",
              "      <td>0</td>\n",
              "      <td>0</td>\n",
              "      <td>222</td>\n",
              "    </tr>\n",
              "    <tr>\n",
              "      <th>1</th>\n",
              "      <td>M Chinnaswamy Stadium</td>\n",
              "      <td>Kolkata Knight Riders</td>\n",
              "      <td>Royal Challengers Bangalore</td>\n",
              "      <td>BB McCullum</td>\n",
              "      <td>P Kumar</td>\n",
              "      <td>1</td>\n",
              "      <td>0</td>\n",
              "      <td>0.2</td>\n",
              "      <td>1</td>\n",
              "      <td>0</td>\n",
              "      <td>0</td>\n",
              "      <td>0</td>\n",
              "      <td>222</td>\n",
              "    </tr>\n",
              "    <tr>\n",
              "      <th>2</th>\n",
              "      <td>M Chinnaswamy Stadium</td>\n",
              "      <td>Kolkata Knight Riders</td>\n",
              "      <td>Royal Challengers Bangalore</td>\n",
              "      <td>BB McCullum</td>\n",
              "      <td>P Kumar</td>\n",
              "      <td>2</td>\n",
              "      <td>0</td>\n",
              "      <td>0.2</td>\n",
              "      <td>2</td>\n",
              "      <td>0</td>\n",
              "      <td>0</td>\n",
              "      <td>0</td>\n",
              "      <td>222</td>\n",
              "    </tr>\n",
              "    <tr>\n",
              "      <th>3</th>\n",
              "      <td>M Chinnaswamy Stadium</td>\n",
              "      <td>Kolkata Knight Riders</td>\n",
              "      <td>Royal Challengers Bangalore</td>\n",
              "      <td>BB McCullum</td>\n",
              "      <td>P Kumar</td>\n",
              "      <td>2</td>\n",
              "      <td>0</td>\n",
              "      <td>0.3</td>\n",
              "      <td>2</td>\n",
              "      <td>0</td>\n",
              "      <td>0</td>\n",
              "      <td>0</td>\n",
              "      <td>222</td>\n",
              "    </tr>\n",
              "    <tr>\n",
              "      <th>4</th>\n",
              "      <td>M Chinnaswamy Stadium</td>\n",
              "      <td>Kolkata Knight Riders</td>\n",
              "      <td>Royal Challengers Bangalore</td>\n",
              "      <td>BB McCullum</td>\n",
              "      <td>P Kumar</td>\n",
              "      <td>2</td>\n",
              "      <td>0</td>\n",
              "      <td>0.4</td>\n",
              "      <td>2</td>\n",
              "      <td>0</td>\n",
              "      <td>0</td>\n",
              "      <td>0</td>\n",
              "      <td>222</td>\n",
              "    </tr>\n",
              "  </tbody>\n",
              "</table>\n",
              "</div>"
            ],
            "text/plain": [
              "                   venue               bat_team                    bowl_team  \\\n",
              "0  M Chinnaswamy Stadium  Kolkata Knight Riders  Royal Challengers Bangalore   \n",
              "1  M Chinnaswamy Stadium  Kolkata Knight Riders  Royal Challengers Bangalore   \n",
              "2  M Chinnaswamy Stadium  Kolkata Knight Riders  Royal Challengers Bangalore   \n",
              "3  M Chinnaswamy Stadium  Kolkata Knight Riders  Royal Challengers Bangalore   \n",
              "4  M Chinnaswamy Stadium  Kolkata Knight Riders  Royal Challengers Bangalore   \n",
              "\n",
              "       batsman   bowler  runs  wickets  overs  runs_last_5  wickets_last_5  \\\n",
              "0   SC Ganguly  P Kumar     1        0    0.1            1               0   \n",
              "1  BB McCullum  P Kumar     1        0    0.2            1               0   \n",
              "2  BB McCullum  P Kumar     2        0    0.2            2               0   \n",
              "3  BB McCullum  P Kumar     2        0    0.3            2               0   \n",
              "4  BB McCullum  P Kumar     2        0    0.4            2               0   \n",
              "\n",
              "   striker  non-striker  total  \n",
              "0        0            0    222  \n",
              "1        0            0    222  \n",
              "2        0            0    222  \n",
              "3        0            0    222  \n",
              "4        0            0    222  "
            ]
          },
          "execution_count": 41,
          "metadata": {},
          "output_type": "execute_result"
        }
      ]
    },
    {
      "cell_type": "code",
      "metadata": {
        "id": "4-ZoGEOVpOr0"
      },
      "source": [
        "y=df[\"total\"]"
      ],
      "execution_count": null,
      "outputs": []
    },
    {
      "cell_type": "code",
      "metadata": {
        "id": "1FNF96FEpOr1"
      },
      "source": [
        "x=df.drop(\"total\",axis=1)"
      ],
      "execution_count": null,
      "outputs": []
    },
    {
      "cell_type": "code",
      "metadata": {
        "id": "uizYTcQlpOr1",
        "outputId": "391597ca-418b-4547-da3a-c8a954069c0e"
      },
      "source": [
        "x.head()"
      ],
      "execution_count": null,
      "outputs": [
        {
          "data": {
            "text/html": [
              "<div>\n",
              "<style scoped>\n",
              "    .dataframe tbody tr th:only-of-type {\n",
              "        vertical-align: middle;\n",
              "    }\n",
              "\n",
              "    .dataframe tbody tr th {\n",
              "        vertical-align: top;\n",
              "    }\n",
              "\n",
              "    .dataframe thead th {\n",
              "        text-align: right;\n",
              "    }\n",
              "</style>\n",
              "<table border=\"1\" class=\"dataframe\">\n",
              "  <thead>\n",
              "    <tr style=\"text-align: right;\">\n",
              "      <th></th>\n",
              "      <th>venue</th>\n",
              "      <th>bat_team</th>\n",
              "      <th>bowl_team</th>\n",
              "      <th>batsman</th>\n",
              "      <th>bowler</th>\n",
              "      <th>runs</th>\n",
              "      <th>wickets</th>\n",
              "      <th>overs</th>\n",
              "      <th>runs_last_5</th>\n",
              "      <th>wickets_last_5</th>\n",
              "      <th>striker</th>\n",
              "      <th>non-striker</th>\n",
              "    </tr>\n",
              "  </thead>\n",
              "  <tbody>\n",
              "    <tr>\n",
              "      <th>0</th>\n",
              "      <td>M Chinnaswamy Stadium</td>\n",
              "      <td>Kolkata Knight Riders</td>\n",
              "      <td>Royal Challengers Bangalore</td>\n",
              "      <td>SC Ganguly</td>\n",
              "      <td>P Kumar</td>\n",
              "      <td>1</td>\n",
              "      <td>0</td>\n",
              "      <td>0.1</td>\n",
              "      <td>1</td>\n",
              "      <td>0</td>\n",
              "      <td>0</td>\n",
              "      <td>0</td>\n",
              "    </tr>\n",
              "    <tr>\n",
              "      <th>1</th>\n",
              "      <td>M Chinnaswamy Stadium</td>\n",
              "      <td>Kolkata Knight Riders</td>\n",
              "      <td>Royal Challengers Bangalore</td>\n",
              "      <td>BB McCullum</td>\n",
              "      <td>P Kumar</td>\n",
              "      <td>1</td>\n",
              "      <td>0</td>\n",
              "      <td>0.2</td>\n",
              "      <td>1</td>\n",
              "      <td>0</td>\n",
              "      <td>0</td>\n",
              "      <td>0</td>\n",
              "    </tr>\n",
              "    <tr>\n",
              "      <th>2</th>\n",
              "      <td>M Chinnaswamy Stadium</td>\n",
              "      <td>Kolkata Knight Riders</td>\n",
              "      <td>Royal Challengers Bangalore</td>\n",
              "      <td>BB McCullum</td>\n",
              "      <td>P Kumar</td>\n",
              "      <td>2</td>\n",
              "      <td>0</td>\n",
              "      <td>0.2</td>\n",
              "      <td>2</td>\n",
              "      <td>0</td>\n",
              "      <td>0</td>\n",
              "      <td>0</td>\n",
              "    </tr>\n",
              "    <tr>\n",
              "      <th>3</th>\n",
              "      <td>M Chinnaswamy Stadium</td>\n",
              "      <td>Kolkata Knight Riders</td>\n",
              "      <td>Royal Challengers Bangalore</td>\n",
              "      <td>BB McCullum</td>\n",
              "      <td>P Kumar</td>\n",
              "      <td>2</td>\n",
              "      <td>0</td>\n",
              "      <td>0.3</td>\n",
              "      <td>2</td>\n",
              "      <td>0</td>\n",
              "      <td>0</td>\n",
              "      <td>0</td>\n",
              "    </tr>\n",
              "    <tr>\n",
              "      <th>4</th>\n",
              "      <td>M Chinnaswamy Stadium</td>\n",
              "      <td>Kolkata Knight Riders</td>\n",
              "      <td>Royal Challengers Bangalore</td>\n",
              "      <td>BB McCullum</td>\n",
              "      <td>P Kumar</td>\n",
              "      <td>2</td>\n",
              "      <td>0</td>\n",
              "      <td>0.4</td>\n",
              "      <td>2</td>\n",
              "      <td>0</td>\n",
              "      <td>0</td>\n",
              "      <td>0</td>\n",
              "    </tr>\n",
              "  </tbody>\n",
              "</table>\n",
              "</div>"
            ],
            "text/plain": [
              "                   venue               bat_team                    bowl_team  \\\n",
              "0  M Chinnaswamy Stadium  Kolkata Knight Riders  Royal Challengers Bangalore   \n",
              "1  M Chinnaswamy Stadium  Kolkata Knight Riders  Royal Challengers Bangalore   \n",
              "2  M Chinnaswamy Stadium  Kolkata Knight Riders  Royal Challengers Bangalore   \n",
              "3  M Chinnaswamy Stadium  Kolkata Knight Riders  Royal Challengers Bangalore   \n",
              "4  M Chinnaswamy Stadium  Kolkata Knight Riders  Royal Challengers Bangalore   \n",
              "\n",
              "       batsman   bowler  runs  wickets  overs  runs_last_5  wickets_last_5  \\\n",
              "0   SC Ganguly  P Kumar     1        0    0.1            1               0   \n",
              "1  BB McCullum  P Kumar     1        0    0.2            1               0   \n",
              "2  BB McCullum  P Kumar     2        0    0.2            2               0   \n",
              "3  BB McCullum  P Kumar     2        0    0.3            2               0   \n",
              "4  BB McCullum  P Kumar     2        0    0.4            2               0   \n",
              "\n",
              "   striker  non-striker  \n",
              "0        0            0  \n",
              "1        0            0  \n",
              "2        0            0  \n",
              "3        0            0  \n",
              "4        0            0  "
            ]
          },
          "execution_count": 44,
          "metadata": {},
          "output_type": "execute_result"
        }
      ]
    },
    {
      "cell_type": "code",
      "metadata": {
        "id": "KHs_5G96pOr2",
        "outputId": "06e37fad-b388-4726-b782-1e5305dc20d6"
      },
      "source": [
        "df.info()"
      ],
      "execution_count": null,
      "outputs": [
        {
          "name": "stdout",
          "output_type": "stream",
          "text": [
            "<class 'pandas.core.frame.DataFrame'>\n",
            "RangeIndex: 76014 entries, 0 to 76013\n",
            "Data columns (total 13 columns):\n",
            " #   Column          Non-Null Count  Dtype  \n",
            "---  ------          --------------  -----  \n",
            " 0   venue           76014 non-null  object \n",
            " 1   bat_team        76014 non-null  object \n",
            " 2   bowl_team       76014 non-null  object \n",
            " 3   batsman         76014 non-null  object \n",
            " 4   bowler          76014 non-null  object \n",
            " 5   runs            76014 non-null  int64  \n",
            " 6   wickets         76014 non-null  int64  \n",
            " 7   overs           76014 non-null  float64\n",
            " 8   runs_last_5     76014 non-null  int64  \n",
            " 9   wickets_last_5  76014 non-null  int64  \n",
            " 10  striker         76014 non-null  int64  \n",
            " 11  non-striker     76014 non-null  int64  \n",
            " 12  total           76014 non-null  int64  \n",
            "dtypes: float64(1), int64(7), object(5)\n",
            "memory usage: 7.5+ MB\n"
          ]
        }
      ]
    },
    {
      "cell_type": "code",
      "metadata": {
        "id": "14m1bYlRpOr2",
        "outputId": "2003afb2-8f29-4eef-a521-ef07ceae1c9c"
      },
      "source": [
        "x.dtypes"
      ],
      "execution_count": null,
      "outputs": [
        {
          "data": {
            "text/plain": [
              "venue              object\n",
              "bat_team           object\n",
              "bowl_team          object\n",
              "batsman            object\n",
              "bowler             object\n",
              "runs                int64\n",
              "wickets             int64\n",
              "overs             float64\n",
              "runs_last_5         int64\n",
              "wickets_last_5      int64\n",
              "striker             int64\n",
              "non-striker         int64\n",
              "dtype: object"
            ]
          },
          "execution_count": 46,
          "metadata": {},
          "output_type": "execute_result"
        }
      ]
    },
    {
      "cell_type": "markdown",
      "metadata": {
        "id": "ywPBkMvKpOr3"
      },
      "source": [
        "# 3.convert the categorical string columns to numerical columns by using one-hot encoding"
      ]
    },
    {
      "cell_type": "code",
      "metadata": {
        "id": "XSYOs6W7pOr3"
      },
      "source": [
        "x=pd.get_dummies(x,columns=[\"venue\",\"bat_team\",\"bowl_team\",\"batsman\",\"bowler\"])"
      ],
      "execution_count": null,
      "outputs": []
    },
    {
      "cell_type": "code",
      "metadata": {
        "id": "yTYew-_zpOr4",
        "outputId": "fca5dd4c-cf66-459e-fd0e-c9f47eb8ae1c"
      },
      "source": [
        "x.head()"
      ],
      "execution_count": null,
      "outputs": [
        {
          "data": {
            "text/html": [
              "<div>\n",
              "<style scoped>\n",
              "    .dataframe tbody tr th:only-of-type {\n",
              "        vertical-align: middle;\n",
              "    }\n",
              "\n",
              "    .dataframe tbody tr th {\n",
              "        vertical-align: top;\n",
              "    }\n",
              "\n",
              "    .dataframe thead th {\n",
              "        text-align: right;\n",
              "    }\n",
              "</style>\n",
              "<table border=\"1\" class=\"dataframe\">\n",
              "  <thead>\n",
              "    <tr style=\"text-align: right;\">\n",
              "      <th></th>\n",
              "      <th>runs</th>\n",
              "      <th>wickets</th>\n",
              "      <th>overs</th>\n",
              "      <th>runs_last_5</th>\n",
              "      <th>wickets_last_5</th>\n",
              "      <th>striker</th>\n",
              "      <th>non-striker</th>\n",
              "      <th>venue_Barabati Stadium</th>\n",
              "      <th>venue_Brabourne Stadium</th>\n",
              "      <th>venue_Buffalo Park</th>\n",
              "      <th>...</th>\n",
              "      <th>bowler_WPUJC Vaas</th>\n",
              "      <th>bowler_Washington Sundar</th>\n",
              "      <th>bowler_Y Gnaneswara Rao</th>\n",
              "      <th>bowler_Y Nagar</th>\n",
              "      <th>bowler_Y Venugopal Rao</th>\n",
              "      <th>bowler_YA Abdulla</th>\n",
              "      <th>bowler_YK Pathan</th>\n",
              "      <th>bowler_YS Chahal</th>\n",
              "      <th>bowler_Yuvraj Singh</th>\n",
              "      <th>bowler_Z Khan</th>\n",
              "    </tr>\n",
              "  </thead>\n",
              "  <tbody>\n",
              "    <tr>\n",
              "      <th>0</th>\n",
              "      <td>1</td>\n",
              "      <td>0</td>\n",
              "      <td>0.1</td>\n",
              "      <td>1</td>\n",
              "      <td>0</td>\n",
              "      <td>0</td>\n",
              "      <td>0</td>\n",
              "      <td>0</td>\n",
              "      <td>0</td>\n",
              "      <td>0</td>\n",
              "      <td>...</td>\n",
              "      <td>0</td>\n",
              "      <td>0</td>\n",
              "      <td>0</td>\n",
              "      <td>0</td>\n",
              "      <td>0</td>\n",
              "      <td>0</td>\n",
              "      <td>0</td>\n",
              "      <td>0</td>\n",
              "      <td>0</td>\n",
              "      <td>0</td>\n",
              "    </tr>\n",
              "    <tr>\n",
              "      <th>1</th>\n",
              "      <td>1</td>\n",
              "      <td>0</td>\n",
              "      <td>0.2</td>\n",
              "      <td>1</td>\n",
              "      <td>0</td>\n",
              "      <td>0</td>\n",
              "      <td>0</td>\n",
              "      <td>0</td>\n",
              "      <td>0</td>\n",
              "      <td>0</td>\n",
              "      <td>...</td>\n",
              "      <td>0</td>\n",
              "      <td>0</td>\n",
              "      <td>0</td>\n",
              "      <td>0</td>\n",
              "      <td>0</td>\n",
              "      <td>0</td>\n",
              "      <td>0</td>\n",
              "      <td>0</td>\n",
              "      <td>0</td>\n",
              "      <td>0</td>\n",
              "    </tr>\n",
              "    <tr>\n",
              "      <th>2</th>\n",
              "      <td>2</td>\n",
              "      <td>0</td>\n",
              "      <td>0.2</td>\n",
              "      <td>2</td>\n",
              "      <td>0</td>\n",
              "      <td>0</td>\n",
              "      <td>0</td>\n",
              "      <td>0</td>\n",
              "      <td>0</td>\n",
              "      <td>0</td>\n",
              "      <td>...</td>\n",
              "      <td>0</td>\n",
              "      <td>0</td>\n",
              "      <td>0</td>\n",
              "      <td>0</td>\n",
              "      <td>0</td>\n",
              "      <td>0</td>\n",
              "      <td>0</td>\n",
              "      <td>0</td>\n",
              "      <td>0</td>\n",
              "      <td>0</td>\n",
              "    </tr>\n",
              "    <tr>\n",
              "      <th>3</th>\n",
              "      <td>2</td>\n",
              "      <td>0</td>\n",
              "      <td>0.3</td>\n",
              "      <td>2</td>\n",
              "      <td>0</td>\n",
              "      <td>0</td>\n",
              "      <td>0</td>\n",
              "      <td>0</td>\n",
              "      <td>0</td>\n",
              "      <td>0</td>\n",
              "      <td>...</td>\n",
              "      <td>0</td>\n",
              "      <td>0</td>\n",
              "      <td>0</td>\n",
              "      <td>0</td>\n",
              "      <td>0</td>\n",
              "      <td>0</td>\n",
              "      <td>0</td>\n",
              "      <td>0</td>\n",
              "      <td>0</td>\n",
              "      <td>0</td>\n",
              "    </tr>\n",
              "    <tr>\n",
              "      <th>4</th>\n",
              "      <td>2</td>\n",
              "      <td>0</td>\n",
              "      <td>0.4</td>\n",
              "      <td>2</td>\n",
              "      <td>0</td>\n",
              "      <td>0</td>\n",
              "      <td>0</td>\n",
              "      <td>0</td>\n",
              "      <td>0</td>\n",
              "      <td>0</td>\n",
              "      <td>...</td>\n",
              "      <td>0</td>\n",
              "      <td>0</td>\n",
              "      <td>0</td>\n",
              "      <td>0</td>\n",
              "      <td>0</td>\n",
              "      <td>0</td>\n",
              "      <td>0</td>\n",
              "      <td>0</td>\n",
              "      <td>0</td>\n",
              "      <td>0</td>\n",
              "    </tr>\n",
              "  </tbody>\n",
              "</table>\n",
              "<p>5 rows × 810 columns</p>\n",
              "</div>"
            ],
            "text/plain": [
              "   runs  wickets  overs  runs_last_5  wickets_last_5  striker  non-striker  \\\n",
              "0     1        0    0.1            1               0        0            0   \n",
              "1     1        0    0.2            1               0        0            0   \n",
              "2     2        0    0.2            2               0        0            0   \n",
              "3     2        0    0.3            2               0        0            0   \n",
              "4     2        0    0.4            2               0        0            0   \n",
              "\n",
              "   venue_Barabati Stadium  venue_Brabourne Stadium  venue_Buffalo Park  ...  \\\n",
              "0                       0                        0                   0  ...   \n",
              "1                       0                        0                   0  ...   \n",
              "2                       0                        0                   0  ...   \n",
              "3                       0                        0                   0  ...   \n",
              "4                       0                        0                   0  ...   \n",
              "\n",
              "   bowler_WPUJC Vaas  bowler_Washington Sundar  bowler_Y Gnaneswara Rao  \\\n",
              "0                  0                         0                        0   \n",
              "1                  0                         0                        0   \n",
              "2                  0                         0                        0   \n",
              "3                  0                         0                        0   \n",
              "4                  0                         0                        0   \n",
              "\n",
              "   bowler_Y Nagar  bowler_Y Venugopal Rao  bowler_YA Abdulla  \\\n",
              "0               0                       0                  0   \n",
              "1               0                       0                  0   \n",
              "2               0                       0                  0   \n",
              "3               0                       0                  0   \n",
              "4               0                       0                  0   \n",
              "\n",
              "   bowler_YK Pathan  bowler_YS Chahal  bowler_Yuvraj Singh  bowler_Z Khan  \n",
              "0                 0                 0                    0              0  \n",
              "1                 0                 0                    0              0  \n",
              "2                 0                 0                    0              0  \n",
              "3                 0                 0                    0              0  \n",
              "4                 0                 0                    0              0  \n",
              "\n",
              "[5 rows x 810 columns]"
            ]
          },
          "execution_count": 48,
          "metadata": {},
          "output_type": "execute_result"
        }
      ]
    },
    {
      "cell_type": "code",
      "metadata": {
        "id": "3q9vwdUZpOr4",
        "outputId": "aee27f0d-2320-47f8-b6ce-a449562d1807"
      },
      "source": [
        "type(x)"
      ],
      "execution_count": null,
      "outputs": [
        {
          "data": {
            "text/plain": [
              "pandas.core.frame.DataFrame"
            ]
          },
          "execution_count": 49,
          "metadata": {},
          "output_type": "execute_result"
        }
      ]
    },
    {
      "cell_type": "code",
      "metadata": {
        "id": "BbSwWo-DpOr5",
        "outputId": "b017743f-192c-49b4-c86c-a8148a4ffd5c"
      },
      "source": [
        "x.shape"
      ],
      "execution_count": null,
      "outputs": [
        {
          "data": {
            "text/plain": [
              "(76014, 810)"
            ]
          },
          "execution_count": 50,
          "metadata": {},
          "output_type": "execute_result"
        }
      ]
    },
    {
      "cell_type": "code",
      "metadata": {
        "id": "arftvroEpOr5",
        "outputId": "6b1179cb-5e1b-49cf-ae3b-d5026139450e"
      },
      "source": [
        "x.dtypes"
      ],
      "execution_count": null,
      "outputs": [
        {
          "data": {
            "text/plain": [
              "runs                     int64\n",
              "wickets                  int64\n",
              "overs                  float64\n",
              "runs_last_5              int64\n",
              "wickets_last_5           int64\n",
              "                        ...   \n",
              "bowler_YA Abdulla        uint8\n",
              "bowler_YK Pathan         uint8\n",
              "bowler_YS Chahal         uint8\n",
              "bowler_Yuvraj Singh      uint8\n",
              "bowler_Z Khan            uint8\n",
              "Length: 810, dtype: object"
            ]
          },
          "execution_count": 51,
          "metadata": {},
          "output_type": "execute_result"
        }
      ]
    },
    {
      "cell_type": "code",
      "metadata": {
        "id": "t4gkwPZPpOr6"
      },
      "source": [
        "from sklearn.model_selection import train_test_split"
      ],
      "execution_count": null,
      "outputs": []
    },
    {
      "cell_type": "code",
      "metadata": {
        "id": "hji4RHK5pOr7"
      },
      "source": [
        "x_train,x_test,y_train,y_test=train_test_split(x,y,test_size=0.2,random_state=42)"
      ],
      "execution_count": null,
      "outputs": []
    },
    {
      "cell_type": "markdown",
      "metadata": {
        "id": "bt6NPnJnpOr-"
      },
      "source": [
        "# 4. perform feature scaling "
      ]
    },
    {
      "cell_type": "code",
      "metadata": {
        "id": "77ScP9jBpOr-"
      },
      "source": [
        "from sklearn.preprocessing import StandardScaler"
      ],
      "execution_count": null,
      "outputs": []
    },
    {
      "cell_type": "code",
      "metadata": {
        "id": "T4CdJiCcpOr_"
      },
      "source": [
        "scaler=StandardScaler()"
      ],
      "execution_count": null,
      "outputs": []
    },
    {
      "cell_type": "code",
      "metadata": {
        "id": "OOVFgwUkpOr_"
      },
      "source": [
        "x_train=scaler.fit_transform(x_train)"
      ],
      "execution_count": null,
      "outputs": []
    },
    {
      "cell_type": "code",
      "metadata": {
        "id": "TISmeFsrpOr_"
      },
      "source": [
        "x_test=scaler.transform(x_test)"
      ],
      "execution_count": null,
      "outputs": []
    },
    {
      "cell_type": "markdown",
      "metadata": {
        "id": "XVS1XoYypOsA"
      },
      "source": [
        "# 5. Build a model on the \"total\" column,using a RandomForestRegressor"
      ]
    },
    {
      "cell_type": "code",
      "metadata": {
        "id": "wXKlJrqspOsA"
      },
      "source": [
        "from sklearn.ensemble import RandomForestRegressor"
      ],
      "execution_count": null,
      "outputs": []
    },
    {
      "cell_type": "code",
      "metadata": {
        "id": "CS_4UVDhpOsA"
      },
      "source": [
        "forest=RandomForestRegressor()"
      ],
      "execution_count": null,
      "outputs": []
    },
    {
      "cell_type": "code",
      "metadata": {
        "id": "IjKJWuEUpOsB",
        "outputId": "87448fdb-f420-40b1-aca5-1f967717bda1"
      },
      "source": [
        "forest.fit(x_train,y_train)"
      ],
      "execution_count": null,
      "outputs": [
        {
          "data": {
            "text/plain": [
              "RandomForestRegressor()"
            ]
          },
          "execution_count": 60,
          "metadata": {},
          "output_type": "execute_result"
        }
      ]
    },
    {
      "cell_type": "markdown",
      "metadata": {
        "id": "-UYqHhsxpOsB"
      },
      "source": [
        "# 6. calculating the score"
      ]
    },
    {
      "cell_type": "code",
      "metadata": {
        "id": "dDxdE-r3pOsB",
        "outputId": "b86bfb10-1e98-4c4b-8924-e5605a6c8c86"
      },
      "source": [
        "forest.score(x_test,y_test)"
      ],
      "execution_count": null,
      "outputs": [
        {
          "data": {
            "text/plain": [
              "0.9557682600302505"
            ]
          },
          "execution_count": 61,
          "metadata": {},
          "output_type": "execute_result"
        }
      ]
    },
    {
      "cell_type": "code",
      "metadata": {
        "id": "wNePfzHupOsC",
        "outputId": "646a5f00-a12b-4748-a587-331f6f982ebd"
      },
      "source": [
        "forest.score(x_train,y_train)"
      ],
      "execution_count": null,
      "outputs": [
        {
          "data": {
            "text/plain": [
              "0.9934345650944402"
            ]
          },
          "execution_count": 62,
          "metadata": {},
          "output_type": "execute_result"
        }
      ]
    },
    {
      "cell_type": "markdown",
      "metadata": {
        "id": "HdMwzLGnpOsC"
      },
      "source": [
        "# 7. predict on a new set of features"
      ]
    },
    {
      "cell_type": "code",
      "metadata": {
        "id": "nwBcDYdgpOsD"
      },
      "source": [
        "pd.options.display.max_seq_items=900"
      ],
      "execution_count": null,
      "outputs": []
    },
    {
      "cell_type": "code",
      "metadata": {
        "id": "KJcU1X5UpOsD",
        "outputId": "4b21e574-b61f-4d99-dc8e-15d5f46ce054"
      },
      "source": [
        "x.columns"
      ],
      "execution_count": null,
      "outputs": [
        {
          "data": {
            "text/plain": [
              "Index(['runs', 'wickets', 'overs', 'runs_last_5', 'wickets_last_5', 'striker',\n",
              "       'non-striker', 'venue_Barabati Stadium', 'venue_Brabourne Stadium',\n",
              "       'venue_Buffalo Park', 'venue_De Beers Diamond Oval',\n",
              "       'venue_Dr DY Patil Sports Academy',\n",
              "       'venue_Dr. Y.S. Rajasekhara Reddy ACA-VDCA Cricket Stadium',\n",
              "       'venue_Dubai International Cricket Stadium', 'venue_Eden Gardens',\n",
              "       'venue_Feroz Shah Kotla', 'venue_Green Park',\n",
              "       'venue_Himachal Pradesh Cricket Association Stadium',\n",
              "       'venue_Holkar Cricket Stadium',\n",
              "       'venue_JSCA International Stadium Complex', 'venue_Kingsmead',\n",
              "       'venue_M Chinnaswamy Stadium', 'venue_MA Chidambaram Stadium, Chepauk',\n",
              "       'venue_Maharashtra Cricket Association Stadium', 'venue_Nehru Stadium',\n",
              "       'venue_New Wanderers Stadium', 'venue_Newlands',\n",
              "       'venue_OUTsurance Oval',\n",
              "       'venue_Punjab Cricket Association IS Bindra Stadium, Mohali',\n",
              "       'venue_Punjab Cricket Association Stadium, Mohali',\n",
              "       'venue_Rajiv Gandhi International Stadium, Uppal',\n",
              "       'venue_Sardar Patel Stadium, Motera',\n",
              "       'venue_Saurashtra Cricket Association Stadium',\n",
              "       'venue_Sawai Mansingh Stadium',\n",
              "       'venue_Shaheed Veer Narayan Singh International Stadium',\n",
              "       'venue_Sharjah Cricket Stadium', 'venue_Sheikh Zayed Stadium',\n",
              "       'venue_St George's Park', 'venue_Subrata Roy Sahara Stadium',\n",
              "       'venue_SuperSport Park',\n",
              "       'venue_Vidarbha Cricket Association Stadium, Jamtha',\n",
              "       'venue_Wankhede Stadium', 'bat_team_Chennai Super Kings',\n",
              "       'bat_team_Deccan Chargers', 'bat_team_Delhi Daredevils',\n",
              "       'bat_team_Gujarat Lions', 'bat_team_Kings XI Punjab',\n",
              "       'bat_team_Kochi Tuskers Kerala', 'bat_team_Kolkata Knight Riders',\n",
              "       'bat_team_Mumbai Indians', 'bat_team_Pune Warriors',\n",
              "       'bat_team_Rajasthan Royals', 'bat_team_Rising Pune Supergiant',\n",
              "       'bat_team_Rising Pune Supergiants',\n",
              "       'bat_team_Royal Challengers Bangalore', 'bat_team_Sunrisers Hyderabad',\n",
              "       'bowl_team_Chennai Super Kings', 'bowl_team_Deccan Chargers',\n",
              "       'bowl_team_Delhi Daredevils', 'bowl_team_Gujarat Lions',\n",
              "       'bowl_team_Kings XI Punjab', 'bowl_team_Kochi Tuskers Kerala',\n",
              "       'bowl_team_Kolkata Knight Riders', 'bowl_team_Mumbai Indians',\n",
              "       'bowl_team_Pune Warriors', 'bowl_team_Rajasthan Royals',\n",
              "       'bowl_team_Rising Pune Supergiant', 'bowl_team_Rising Pune Supergiants',\n",
              "       'bowl_team_Royal Challengers Bangalore',\n",
              "       'bowl_team_Sunrisers Hyderabad', 'batsman_A Ashish Reddy',\n",
              "       'batsman_A Chandila', 'batsman_A Chopra', 'batsman_A Choudhary',\n",
              "       'batsman_A Flintoff', 'batsman_A Kumble', 'batsman_A Mishra',\n",
              "       'batsman_A Mithun', 'batsman_A Mukund', 'batsman_A Nehra',\n",
              "       'batsman_A Singh', 'batsman_A Symonds', 'batsman_A Uniyal',\n",
              "       'batsman_AA Bilakhia', 'batsman_AA Chavan', 'batsman_AA Jhunjhunwala',\n",
              "       'batsman_AB Agarkar', 'batsman_AB Dinda', 'batsman_AB McDonald',\n",
              "       'batsman_AB de Villiers', 'batsman_AC Blizzard', 'batsman_AC Gilchrist',\n",
              "       'batsman_AC Thomas', 'batsman_AC Voges', 'batsman_AD Mascarenhas',\n",
              "       'batsman_AD Mathews', 'batsman_AD Nath', 'batsman_AD Russell',\n",
              "       'batsman_AF Milne', 'batsman_AG Murtaza', 'batsman_AG Paunikar',\n",
              "       'batsman_AJ Finch', 'batsman_AJ Tye', 'batsman_AL Menaria',\n",
              "       'batsman_AM Nayar', 'batsman_AM Rahane', 'batsman_AN Ahmed',\n",
              "       'batsman_AN Ghosh', 'batsman_AP Dole', 'batsman_AP Majumdar',\n",
              "       'batsman_AP Tare', 'batsman_AR Bawne', 'batsman_AR Patel',\n",
              "       'batsman_AS Rajpoot', 'batsman_AS Raut', 'batsman_AS Yadav',\n",
              "       'batsman_AT Rayudu', 'batsman_AUK Pathan', 'batsman_Anirudh Singh',\n",
              "       'batsman_Ankit Sharma', 'batsman_Ankit Soni', 'batsman_Anureet Singh',\n",
              "       'batsman_Azhar Mahmood', 'batsman_B Akhil', 'batsman_B Chipli',\n",
              "       'batsman_B Kumar', 'batsman_B Lee', 'batsman_B Sumanth',\n",
              "       'batsman_BA Bhatt', 'batsman_BA Stokes', 'batsman_BAW Mendis',\n",
              "       'batsman_BB McCullum', 'batsman_BB Samantray', 'batsman_BB Sran',\n",
              "       'batsman_BCJ Cutting', 'batsman_BE Hendricks', 'batsman_BJ Haddin',\n",
              "       'batsman_BJ Hodge', 'batsman_BJ Rohrer', 'batsman_BMAJ Mendis',\n",
              "       'batsman_BR Dunk', 'batsman_Basil Thampi', 'batsman_Bipul Sharma',\n",
              "       'batsman_C Madan', 'batsman_C Munro', 'batsman_C de Grandhomme',\n",
              "       'batsman_CA Lynn', 'batsman_CA Pujara', 'batsman_CH Gayle',\n",
              "       'batsman_CH Morris', 'batsman_CJ Anderson', 'batsman_CJ Ferguson',\n",
              "       'batsman_CJ McKay', 'batsman_CK Kapugedera', 'batsman_CL White',\n",
              "       'batsman_CM Gautam', 'batsman_CR Brathwaite', 'batsman_CR Woakes',\n",
              "       'batsman_D Kalyankrishna', 'batsman_D Salunkhe', 'batsman_D Wiese',\n",
              "       'batsman_D du Preez', 'batsman_DA Miller', 'batsman_DA Warner',\n",
              "       'batsman_DB Das', 'batsman_DB Ravi Teja', 'batsman_DE Bollinger',\n",
              "       'batsman_DH Yagnik', 'batsman_DJ Bravo', 'batsman_DJ Harris',\n",
              "       'batsman_DJ Hooda', 'batsman_DJ Hussey', 'batsman_DJ Jacobs',\n",
              "       'batsman_DJ Muthuswami', 'batsman_DJ Thornely', 'batsman_DJG Sammy',\n",
              "       'batsman_DL Vettori', 'batsman_DNT Zoysa', 'batsman_DPMD Jayawardene',\n",
              "       'batsman_DR Martyn', 'batsman_DR Smith', 'batsman_DS Kulkarni',\n",
              "       'batsman_DS Lehmann', 'batsman_DT Christian', 'batsman_DT Patil',\n",
              "       'batsman_DW Steyn', 'batsman_EJG Morgan', 'batsman_ER Dwivedi',\n",
              "       'batsman_F Behardien', 'batsman_F du Plessis', 'batsman_FH Edwards',\n",
              "       'batsman_FY Fazal', 'batsman_G Gambhir', 'batsman_GC Smith',\n",
              "       'batsman_GH Vihari', 'batsman_GJ Bailey', 'batsman_GJ Maxwell',\n",
              "       'batsman_GR Napier', 'batsman_Gurkeerat Singh', 'batsman_HH Gibbs',\n",
              "       'batsman_HH Pandya', 'batsman_HM Amla', 'batsman_HV Patel',\n",
              "       'batsman_Harbhajan Singh', 'batsman_Harmeet Singh',\n",
              "       'batsman_Harpreet Singh', 'batsman_I Malhotra', 'batsman_I Sharma',\n",
              "       'batsman_IK Pathan', 'batsman_IR Jaggi', 'batsman_Imran Tahir',\n",
              "       'batsman_Iqbal Abdulla', 'batsman_Ishan Kishan', 'batsman_J Arunkumar',\n",
              "       'batsman_J Botha', 'batsman_J Suchith', 'batsman_J Theron',\n",
              "       'batsman_J Yadav', 'batsman_JA Morkel', 'batsman_JC Buttler',\n",
              "       'batsman_JD Ryder', 'batsman_JD Unadkat', 'batsman_JDP Oram',\n",
              "       'batsman_JDS Neesham', 'batsman_JE Taylor', 'batsman_JEC Franklin',\n",
              "       'batsman_JH Kallis', 'batsman_JJ Bumrah', 'batsman_JJ Roy',\n",
              "       'batsman_JO Holder', 'batsman_JP Duminy', 'batsman_JP Faulkner',\n",
              "       'batsman_JR Hopes', 'batsman_Jaskaran Singh', 'batsman_Joginder Sharma',\n",
              "       'batsman_K Goel', 'batsman_K Rabada', 'batsman_KA Pollard',\n",
              "       'batsman_KB Arun Karthik', 'batsman_KC Cariappa',\n",
              "       'batsman_KC Sangakkara', 'batsman_KD Karthik', 'batsman_KH Pandya',\n",
              "       'batsman_KJ Abbott', 'batsman_KK Cooper', 'batsman_KK Nair',\n",
              "       'batsman_KL Rahul', 'batsman_KM Jadhav', 'batsman_KP Appanna',\n",
              "       'batsman_KP Pietersen', 'batsman_KS Williamson', 'batsman_KV Sharma',\n",
              "       'batsman_KW Richardson', 'batsman_Kamran Akmal',\n",
              "       'batsman_Kuldeep Yadav', 'batsman_L Balaji', 'batsman_L Ronchi',\n",
              "       'batsman_LA Carseldine', 'batsman_LA Pomersbach', 'batsman_LH Ferguson',\n",
              "       'batsman_LJ Wright', 'batsman_LMP Simmons', 'batsman_LPC Silva',\n",
              "       'batsman_LR Shukla', 'batsman_LRPL Taylor', 'batsman_M Kaif',\n",
              "       'batsman_M Kartik', 'batsman_M Klinger', 'batsman_M Manhas',\n",
              "       'batsman_M Morkel', 'batsman_M Muralitharan', 'batsman_M Ntini',\n",
              "       'batsman_M Rawat', 'batsman_M Vijay', 'batsman_M Vohra',\n",
              "       'batsman_M de Lange', 'batsman_MA Agarwal', 'batsman_MA Khote',\n",
              "       'batsman_MA Starc', 'batsman_MC Henriques', 'batsman_MC Juneja',\n",
              "       'batsman_MD Mishra', 'batsman_MDKJ Perera', 'batsman_MEK Hussey',\n",
              "       'batsman_MF Maharoof', 'batsman_MG Johnson', 'batsman_MJ Clarke',\n",
              "       'batsman_MJ Guptill', 'batsman_MJ Lumb', 'batsman_MJ McClenaghan',\n",
              "       'batsman_MK Pandey', 'batsman_MK Tiwary', 'batsman_ML Hayden',\n",
              "       'batsman_MM Patel', 'batsman_MM Sharma', 'batsman_MN Samuels',\n",
              "       'batsman_MN van Wyk', 'batsman_MP Stoinis', 'batsman_MR Marsh',\n",
              "       'batsman_MS Bisla', 'batsman_MS Dhoni', 'batsman_MS Gony',\n",
              "       'batsman_MS Wade', 'batsman_MV Boucher', 'batsman_Mandeep Singh',\n",
              "       'batsman_Mashrafe Mortaza', 'batsman_Misbah-ul-Haq',\n",
              "       'batsman_Mohammad Ashraful', 'batsman_Mohammad Hafeez',\n",
              "       'batsman_Mohammad Nabi', 'batsman_Mohammed Shami', 'batsman_N Rana',\n",
              "       'batsman_N Saini', 'batsman_ND Doshi', 'batsman_NJ Rimmington',\n",
              "       'batsman_NL McCullum', 'batsman_NLTC Perera', 'batsman_NM Coulter-Nile',\n",
              "       'batsman_NS Naik', 'batsman_NV Ojha', 'batsman_Niraj Patel',\n",
              "       'batsman_OA Shah', 'batsman_P Awana', 'batsman_P Dogra',\n",
              "       'batsman_P Kumar', 'batsman_P Negi', 'batsman_P Parameswaran',\n",
              "       'batsman_P Sahu', 'batsman_PA Patel', 'batsman_PA Reddy',\n",
              "       'batsman_PC Valthaty', 'batsman_PD Collingwood', 'batsman_PJ Cummins',\n",
              "       'batsman_PJ Sangwan', 'batsman_PP Chawla', 'batsman_PP Ojha',\n",
              "       'batsman_PR Shah', 'batsman_PSP Handscomb', 'batsman_PV Tambe',\n",
              "       'batsman_Pankaj Singh', 'batsman_Parvez Rasool', 'batsman_Q de Kock',\n",
              "       'batsman_R Ashwin', 'batsman_R Bhatia', 'batsman_R Bishnoi',\n",
              "       'batsman_R Dhawan', 'batsman_R Dravid', 'batsman_R McLaren',\n",
              "       'batsman_R Rampaul', 'batsman_R Sathish', 'batsman_R Sharma',\n",
              "       'batsman_R Shukla', 'batsman_R Tewatia', 'batsman_R Vinay Kumar',\n",
              "       'batsman_RA Jadeja', 'batsman_RA Tripathi', 'batsman_RD Chahar',\n",
              "       'batsman_RE Levi', 'batsman_RE van der Merwe', 'batsman_RG More',\n",
              "       'batsman_RG Sharma', 'batsman_RJ Harris', 'batsman_RJ Peterson',\n",
              "       'batsman_RJ Quiney', 'batsman_RN ten Doeschate', 'batsman_RP Singh',\n",
              "       'batsman_RR Bhatkal', 'batsman_RR Pant', 'batsman_RR Powar',\n",
              "       'batsman_RR Raje', 'batsman_RR Rossouw', 'batsman_RR Sarwan',\n",
              "       'batsman_RS Bopara', 'batsman_RT Ponting', 'batsman_RV Gomez',\n",
              "       'batsman_RV Uthappa', 'batsman_Rashid Khan', 'batsman_S Anirudha',\n",
              "       'batsman_S Aravind', 'batsman_S Badree', 'batsman_S Badrinath',\n",
              "       'batsman_S Chanderpaul', 'batsman_S Dhawan', 'batsman_S Gopal',\n",
              "       'batsman_S Nadeem', 'batsman_S Narwal', 'batsman_S Rana',\n",
              "       'batsman_S Sohal', 'batsman_S Sreesanth', 'batsman_S Vidyut',\n",
              "       'batsman_SA Abbott', 'batsman_SA Asnodkar', 'batsman_SA Yadav',\n",
              "       'batsman_SB Bangar', 'batsman_SB Jakati', 'batsman_SB Joshi',\n",
              "       'batsman_SB Styris', 'batsman_SB Wagh', 'batsman_SC Ganguly',\n",
              "       'batsman_SD Chitnis', 'batsman_SE Marsh', 'batsman_SJ Srivastava',\n",
              "       'batsman_SK Raina', 'batsman_SK Trivedi', 'batsman_SK Warne',\n",
              "       'batsman_SL Malinga', 'batsman_SM Harwood', 'batsman_SM Katich',\n",
              "       'batsman_SM Pollock', 'batsman_SMSM Senanayake', 'batsman_SN Khan',\n",
              "       'batsman_SN Thakur', 'batsman_SP Fleming', 'batsman_SP Goswami',\n",
              "       'batsman_SP Jackson', 'batsman_SP Narine', 'batsman_SPD Smith',\n",
              "       'batsman_SR Tendulkar', 'batsman_SR Watson', 'batsman_SS Iyer',\n",
              "       'batsman_SS Tiwary', 'batsman_ST Jayasuriya', 'batsman_STR Binny',\n",
              "       'batsman_SV Samson', 'batsman_SW Billings', 'batsman_SW Tait',\n",
              "       'batsman_Sachin Baby', 'batsman_Salman Butt', 'batsman_Sandeep Sharma',\n",
              "       'batsman_Shahid Afridi', 'batsman_Shakib Al Hasan',\n",
              "       'batsman_Shivam Sharma', 'batsman_Shoaib Ahmed',\n",
              "       'batsman_Shoaib Akhtar', 'batsman_Shoaib Malik',\n",
              "       'batsman_Sohail Tanvir', 'batsman_Sunny Singh', 'batsman_Swapnil Singh',\n",
              "       'batsman_T Henderson', 'batsman_T Kohli', 'batsman_T Taibu',\n",
              "       'batsman_T Thushara', 'batsman_TD Paine', 'batsman_TG Southee',\n",
              "       'batsman_TL Suman', 'batsman_TM Dilshan', 'batsman_TM Head',\n",
              "       'batsman_TM Srivastava', 'batsman_TR Birt', 'batsman_TS Mills',\n",
              "       'batsman_UBT Chand', 'batsman_UT Khawaja', 'batsman_UT Yadav',\n",
              "       'batsman_Umar Gul', 'batsman_V Kohli', 'batsman_V Pratap Singh',\n",
              "       'batsman_V Sehwag', 'batsman_V Shankar', 'batsman_VH Zol',\n",
              "       'batsman_VR Aaron', 'batsman_VRV Singh', 'batsman_VS Malik',\n",
              "       'batsman_VVS Laxman', 'batsman_VY Mahesh', 'batsman_Vishnu Vinod',\n",
              "       'batsman_W Jaffer', 'batsman_WA Mota', 'batsman_WD Parnell',\n",
              "       'batsman_WP Saha', 'batsman_WPUJC Vaas', 'batsman_Washington Sundar',\n",
              "       'batsman_X Thalaivan Sargunam', 'batsman_Y Nagar',\n",
              "       'batsman_Y Venugopal Rao', 'batsman_YA Abdulla', 'batsman_YK Pathan',\n",
              "       'batsman_YS Chahal', 'batsman_YV Takawale', 'batsman_Yashpal Singh',\n",
              "       'batsman_Yuvraj Singh', 'batsman_Z Khan', 'bowler_A Ashish Reddy',\n",
              "       'bowler_A Chandila', 'bowler_A Choudhary', 'bowler_A Flintoff',\n",
              "       'bowler_A Kumble', 'bowler_A Mishra', 'bowler_A Mithun',\n",
              "       'bowler_A Nehra', 'bowler_A Singh', 'bowler_A Symonds',\n",
              "       'bowler_A Uniyal', 'bowler_A Zampa', 'bowler_AA Chavan',\n",
              "       'bowler_AA Jhunjhunwala', 'bowler_AA Kazi', 'bowler_AA Noffke',\n",
              "       'bowler_AB Agarkar', 'bowler_AB Dinda', 'bowler_AB McDonald',\n",
              "       'bowler_AC Thomas', 'bowler_AC Voges', 'bowler_AD Mascarenhas',\n",
              "       'bowler_AD Mathews', 'bowler_AD Russell', 'bowler_AF Milne',\n",
              "       'bowler_AG Murtaza', 'bowler_AJ Finch', 'bowler_AJ Tye',\n",
              "       'bowler_AL Menaria', 'bowler_AM Nayar', 'bowler_AM Rahane',\n",
              "       'bowler_AM Salvi', 'bowler_AN Ahmed', 'bowler_AP Dole',\n",
              "       'bowler_AR Patel', 'bowler_AS Rajpoot', 'bowler_AS Raut',\n",
              "       'bowler_AUK Pathan', 'bowler_Abdur Razzak', 'bowler_Anand Rajan',\n",
              "       'bowler_Ankit Sharma', 'bowler_Ankit Soni', 'bowler_Anureet Singh',\n",
              "       'bowler_Azhar Mahmood', 'bowler_B Akhil', 'bowler_B Geeves',\n",
              "       'bowler_B Kumar', 'bowler_B Laughlin', 'bowler_B Lee',\n",
              "       'bowler_BA Bhatt', 'bowler_BA Stokes', 'bowler_BAW Mendis',\n",
              "       'bowler_BB Sran', 'bowler_BCJ Cutting', 'bowler_BE Hendricks',\n",
              "       'bowler_BJ Hodge', 'bowler_BMAJ Mendis', 'bowler_BW Hilfenhaus',\n",
              "       'bowler_Basil Thampi', 'bowler_Bipul Sharma', 'bowler_C Ganapathy',\n",
              "       'bowler_C Munro', 'bowler_C Nanda', 'bowler_C de Grandhomme',\n",
              "       'bowler_CH Gayle', 'bowler_CH Morris', 'bowler_CJ Anderson',\n",
              "       'bowler_CJ Jordan', 'bowler_CJ McKay', 'bowler_CK Kapugedera',\n",
              "       'bowler_CK Langeveldt', 'bowler_CL White', 'bowler_CR Brathwaite',\n",
              "       'bowler_CR Woakes', 'bowler_CRD Fernando', 'bowler_D Kalyankrishna',\n",
              "       'bowler_D Salunkhe', 'bowler_D Wiese', 'bowler_D du Preez',\n",
              "       'bowler_DAJ Bracewell', 'bowler_DB Ravi Teja', 'bowler_DE Bollinger',\n",
              "       'bowler_DJ Bravo', 'bowler_DJ Harris', 'bowler_DJ Hooda',\n",
              "       'bowler_DJ Hussey', 'bowler_DJ Muthuswami', 'bowler_DJ Thornely',\n",
              "       'bowler_DJG Sammy', 'bowler_DL Chahar', 'bowler_DL Vettori',\n",
              "       'bowler_DNT Zoysa', 'bowler_DP Nannes', 'bowler_DP Vijaykumar',\n",
              "       'bowler_DR Smith', 'bowler_DS Kulkarni', 'bowler_DT Christian',\n",
              "       'bowler_DW Steyn', 'bowler_FH Edwards', 'bowler_FY Fazal',\n",
              "       'bowler_GB Hogg', 'bowler_GD McGrath', 'bowler_GH Vihari',\n",
              "       'bowler_GJ Maxwell', 'bowler_GS Sandhu', 'bowler_Gagandeep Singh',\n",
              "       'bowler_Gurkeerat Singh', 'bowler_HH Pandya', 'bowler_HV Patel',\n",
              "       'bowler_Harbhajan Singh', 'bowler_Harmeet Singh', 'bowler_I Sharma',\n",
              "       'bowler_IC Pandey', 'bowler_IK Pathan', 'bowler_Imran Tahir',\n",
              "       'bowler_Iqbal Abdulla', 'bowler_J Botha', 'bowler_J Suchith',\n",
              "       'bowler_J Syed Mohammad', 'bowler_J Theron', 'bowler_J Yadav',\n",
              "       'bowler_JA Morkel', 'bowler_JD Ryder', 'bowler_JD Unadkat',\n",
              "       'bowler_JDP Oram', 'bowler_JDS Neesham', 'bowler_JE Taylor',\n",
              "       'bowler_JEC Franklin', 'bowler_JH Kallis', 'bowler_JJ Bumrah',\n",
              "       'bowler_JJ van der Wath', 'bowler_JM Kemp', 'bowler_JO Holder',\n",
              "       'bowler_JP Duminy', 'bowler_JP Faulkner', 'bowler_JR Hopes',\n",
              "       'bowler_JW Hastings', 'bowler_Jaskaran Singh', 'bowler_Joginder Sharma',\n",
              "       'bowler_K Goel', 'bowler_K Rabada', 'bowler_K Santokie',\n",
              "       'bowler_K Upadhyay', 'bowler_KA Pollard', 'bowler_KAJ Roach',\n",
              "       'bowler_KC Cariappa', 'bowler_KH Pandya', 'bowler_KJ Abbott',\n",
              "       'bowler_KK Cooper', 'bowler_KMDN Kulasekara', 'bowler_KP Appanna',\n",
              "       'bowler_KP Pietersen', 'bowler_KS Williamson', 'bowler_KV Sharma',\n",
              "       'bowler_KW Richardson', 'bowler_Kamran Khan', 'bowler_Karanveer Singh',\n",
              "       'bowler_Kuldeep Yadav', 'bowler_L Ablish', 'bowler_L Balaji',\n",
              "       'bowler_LA Carseldine', 'bowler_LH Ferguson', 'bowler_LJ Wright',\n",
              "       'bowler_LR Shukla', 'bowler_LRPL Taylor', 'bowler_M Ashwin',\n",
              "       'bowler_M Kartik', 'bowler_M Manhas', 'bowler_M Morkel',\n",
              "       'bowler_M Muralitharan', 'bowler_M Ntini', 'bowler_M Vijay',\n",
              "       'bowler_M de Lange', 'bowler_MA Khote', 'bowler_MA Starc',\n",
              "       'bowler_MC Henriques', 'bowler_MF Maharoof', 'bowler_MG Johnson',\n",
              "       'bowler_MG Neser', 'bowler_MJ Clarke', 'bowler_MJ McClenaghan',\n",
              "       'bowler_MK Tiwary', 'bowler_MM Patel', 'bowler_MM Sharma',\n",
              "       'bowler_MN Samuels', 'bowler_MP Stoinis', 'bowler_MR Marsh',\n",
              "       'bowler_MS Gony', 'bowler_Mohammad Asif', 'bowler_Mohammad Hafeez',\n",
              "       'bowler_Mohammad Nabi', 'bowler_Mohammed Shami',\n",
              "       'bowler_Mohammed Siraj', 'bowler_Mustafizur Rahman', 'bowler_NB Singh',\n",
              "       'bowler_ND Doshi', 'bowler_NL McCullum', 'bowler_NLTC Perera',\n",
              "       'bowler_NM Coulter-Nile', 'bowler_P Amarnath', 'bowler_P Awana',\n",
              "       'bowler_P Kumar', 'bowler_P Negi', 'bowler_P Parameswaran',\n",
              "       'bowler_P Prasanth', 'bowler_P Sahu', 'bowler_P Suyal',\n",
              "       'bowler_PC Valthaty', 'bowler_PD Collingwood', 'bowler_PJ Cummins',\n",
              "       'bowler_PJ Sangwan', 'bowler_PM Sarvesh Kumar', 'bowler_PP Chawla',\n",
              "       'bowler_PP Ojha', 'bowler_PV Tambe', 'bowler_Pankaj Singh',\n",
              "       'bowler_Parvez Rasool', 'bowler_R Ashwin', 'bowler_R Bhatia',\n",
              "       'bowler_R Dhawan', 'bowler_R McLaren', 'bowler_R Ninan',\n",
              "       'bowler_R Rampaul', 'bowler_R Sathish', 'bowler_R Sharma',\n",
              "       'bowler_R Shukla', 'bowler_R Tewatia', 'bowler_R Vinay Kumar',\n",
              "       'bowler_RA Jadeja', 'bowler_RE van der Merwe', 'bowler_RG More',\n",
              "       'bowler_RG Sharma', 'bowler_RJ Harris', 'bowler_RJ Peterson',\n",
              "       'bowler_RN ten Doeschate', 'bowler_RP Singh', 'bowler_RR Bose',\n",
              "       'bowler_RR Powar', 'bowler_RR Raje', 'bowler_RS Bopara',\n",
              "       'bowler_RS Gavaskar', 'bowler_RV Gomez', 'bowler_RW Price',\n",
              "       'bowler_Rashid Khan', 'bowler_S Aravind', 'bowler_S Badree',\n",
              "       'bowler_S Dhawan', 'bowler_S Gopal', 'bowler_S Kaul',\n",
              "       'bowler_S Kaushik', 'bowler_S Ladda', 'bowler_S Nadeem',\n",
              "       'bowler_S Narwal', 'bowler_S Rana', 'bowler_S Randiv',\n",
              "       'bowler_S Sreesanth', 'bowler_S Sriram', 'bowler_S Tyagi',\n",
              "       'bowler_SA Abbott', 'bowler_SA Yadav', 'bowler_SB Bangar',\n",
              "       'bowler_SB Jakati', 'bowler_SB Joshi', 'bowler_SB Styris',\n",
              "       'bowler_SB Wagh', 'bowler_SC Ganguly', 'bowler_SD Chitnis',\n",
              "       'bowler_SE Bond', 'bowler_SJ Srivastava', 'bowler_SK Raina',\n",
              "       'bowler_SK Trivedi', 'bowler_SK Warne', 'bowler_SL Malinga',\n",
              "       'bowler_SM Boland', 'bowler_SM Harwood', 'bowler_SM Pollock',\n",
              "       'bowler_SMSM Senanayake', 'bowler_SN Thakur', 'bowler_SP Narine',\n",
              "       'bowler_SR Tendulkar', 'bowler_SR Watson', 'bowler_SS Agarwal',\n",
              "       'bowler_SS Sarkar', 'bowler_ST Jayasuriya', 'bowler_STR Binny',\n",
              "       'bowler_SW Tait', 'bowler_Sandeep Sharma', 'bowler_Shahid Afridi',\n",
              "       'bowler_Shakib Al Hasan', 'bowler_Shivam Sharma', 'bowler_Shoaib Ahmed',\n",
              "       'bowler_Shoaib Malik', 'bowler_Sohail Tanvir', 'bowler_Sunny Gupta',\n",
              "       'bowler_Swapnil Singh', 'bowler_T Henderson', 'bowler_T Natarajan',\n",
              "       'bowler_T Shamsi', 'bowler_T Thushara', 'bowler_TA Boult',\n",
              "       'bowler_TG Southee', 'bowler_TL Suman', 'bowler_TM Dilshan',\n",
              "       'bowler_TM Head', 'bowler_TP Sudhindra', 'bowler_TS Mills',\n",
              "       'bowler_UT Yadav', 'bowler_Umar Gul', 'bowler_V Kohli',\n",
              "       'bowler_V Pratap Singh', 'bowler_V Sehwag', 'bowler_V Shankar',\n",
              "       'bowler_VR Aaron', 'bowler_VRV Singh', 'bowler_VS Malik',\n",
              "       'bowler_VS Yeligati', 'bowler_VY Mahesh', 'bowler_WA Mota',\n",
              "       'bowler_WD Parnell', 'bowler_WPUJC Vaas', 'bowler_Washington Sundar',\n",
              "       'bowler_Y Gnaneswara Rao', 'bowler_Y Nagar', 'bowler_Y Venugopal Rao',\n",
              "       'bowler_YA Abdulla', 'bowler_YK Pathan', 'bowler_YS Chahal',\n",
              "       'bowler_Yuvraj Singh', 'bowler_Z Khan'],\n",
              "      dtype='object')"
            ]
          },
          "execution_count": 64,
          "metadata": {},
          "output_type": "execute_result"
        }
      ]
    },
    {
      "cell_type": "code",
      "metadata": {
        "id": "bRMqIj8mpOsD"
      },
      "source": [
        "data=pd.DataFrame({'runs':[50], 'wickets':[1], 'overs':[4], 'runs_last_5':[12], 'wickets_last_5':[0], 'striker':[25],\n",
        "       'non-striker':[25], 'venue_Barabati Stadium':[1], 'venue_Brabourne Stadium':[0],\n",
        "       'venue_Buffalo Park':[0],'venue_De Beers Diamond Oval':[0],\n",
        "       'venue_Dr DY Patil Sports Academy':[0],\n",
        "       'venue_Dr. Y.S. Rajasekhara Reddy ACA-VDCA Cricket Stadium':[0],\n",
        "       'venue_Dubai International Cricket Stadium':[0], 'venue_Eden Gardens':[0],\n",
        "       'venue_Feroz Shah Kotla':[0], 'venue_Green Park':[0],\n",
        "       'venue_Himachal Pradesh Cricket Association Stadium':[0],\n",
        "       'venue_Holkar Cricket Stadium':[0],\n",
        "       'venue_JSCA International Stadium Complex':[0], 'venue_Kingsmead':[0],\n",
        "       'venue_M Chinnaswamy Stadium':[0], 'venue_MA Chidambaram Stadium, Chepauk':[0],\n",
        "       'venue_Maharashtra Cricket Association Stadium':[0], 'venue_Nehru Stadium':[0],\n",
        "       'venue_New Wanderers Stadium':[0], 'venue_Newlands':[0],\n",
        "       'venue_OUTsurance Oval':[0],\n",
        "       'venue_Punjab Cricket Association IS Bindra Stadium, Mohali':[0],\n",
        "       'venue_Punjab Cricket Association Stadium, Mohali':[0],\n",
        "       'venue_Rajiv Gandhi International Stadium, Uppal':[0],\n",
        "       'venue_Sardar Patel Stadium, Motera':[0],\n",
        "       'venue_Saurashtra Cricket Association Stadium':[0],\n",
        "       'venue_Sawai Mansingh Stadium':[0],\n",
        "       'venue_Shaheed Veer Narayan Singh International Stadium':[0],\n",
        "       'venue_Sharjah Cricket Stadium':[0], 'venue_Sheikh Zayed Stadium':[0],\n",
        "       'venue_St Georges Park':[0], 'venue_Subrata Roy Sahara Stadium':[0],\n",
        "       'venue_SuperSport Park':[0],\n",
        "       'venue_Vidarbha Cricket Association Stadium, Jamtha':[0],\n",
        "       'venue_Wankhede Stadium':[0], 'bat_team_Chennai Super Kings':[1],\n",
        "       'bat_team_Deccan Chargers':[0], 'bat_team_Delhi Daredevils':[0],\n",
        "       'bat_team_Gujarat Lions':[0], 'bat_team_Kings XI Punjab':[0],\n",
        "       'bat_team_Kochi Tuskers Kerala':[0], 'bat_team_Kolkata Knight Riders':[0],\n",
        "       'bat_team_Mumbai Indians':[0], 'bat_team_Pune Warriors':[0],\n",
        "       'bat_team_Rajasthan Royals':[0], 'bat_team_Rising Pune Supergiant':[0],\n",
        "       'bat_team_Rising Pune Supergiants':[0],\n",
        "       'bat_team_Royal Challengers Bangalore':[0], 'bat_team_Sunrisers Hyderabad':[0],\n",
        "       'bowl_team_Chennai Super Kings':[0], 'bowl_team_Deccan Chargers':[0],\n",
        "       'bowl_team_Delhi Daredevils':[0], 'bowl_team_Gujarat Lions':[0],\n",
        "       'bowl_team_Kings XI Punjab':[0], 'bowl_team_Kochi Tuskers Kerala':[0],\n",
        "       'bowl_team_Kolkata Knight Riders':[0], 'bowl_team_Mumbai Indians':[1],\n",
        "       'bowl_team_Pune Warriors':[0], 'bowl_team_Rajasthan Royals':[0],\n",
        "       'bowl_team_Rising Pune Supergiant':[0], 'bowl_team_Rising Pune Supergiants':[0],\n",
        "       'bowl_team_Royal Challengers Bangalore':[0],\n",
        "       'bowl_team_Sunrisers Hyderabad':[0], 'batsman_A Ashish Reddy':[0],\n",
        "       'batsman_A Chandila':[0], 'batsman_A Chopra':[0], 'batsman_A Choudhary':[0],\n",
        "       'batsman_A Flintoff':[0], 'batsman_A Kumble':[0], 'batsman_A Mishra':[0],\n",
        "       'batsman_A Mithun':[0], 'batsman_A Mukund':[0], 'batsman_A Nehra':[0],\n",
        "       'batsman_A Singh':[0], 'batsman_A Symonds':[0], 'batsman_A Uniyal':[0],\n",
        "       'batsman_AA Bilakhia':[0], 'batsman_AA Chavan':[0], 'batsman_AA Jhunjhunwala':[0],\n",
        "       'batsman_AB Agarkar':[0], 'batsman_AB Dinda':[0], 'batsman_AB McDonald':[0],\n",
        "       'batsman_AB de Villiers':[0], 'batsman_AC Blizzard':[0], 'batsman_AC Gilchrist':[0],\n",
        "       'batsman_AC Thomas':[0], 'batsman_AC Voges':[0], 'batsman_AD Mascarenhas':[0],\n",
        "       'batsman_AD Mathews':[0], 'batsman_AD Nath':[0], 'batsman_AD Russell':[0],\n",
        "       'batsman_AF Milne':[0], 'batsman_AG Murtaza':[0], 'batsman_AG Paunikar':[0],\n",
        "       'batsman_AJ Finch':[0], 'batsman_AJ Tye':[0], 'batsman_AL Menaria':[0],\n",
        "       'batsman_AM Nayar':[0], 'batsman_AM Rahane':[0], 'batsman_AN Ahmed':[0],\n",
        "       'batsman_AN Ghosh':[0], 'batsman_AP Dole':[0], 'batsman_AP Majumdar':[0],\n",
        "       'batsman_AP Tare':[0], 'batsman_AR Bawne':[0], 'batsman_AR Patel':[0],\n",
        "       'batsman_AS Rajpoot':[0], 'batsman_AS Raut':[0], 'batsman_AS Yadav':[0],\n",
        "       'batsman_AT Rayudu':[0], 'batsman_AUK Pathan':[0], 'batsman_Anirudh Singh':[0],\n",
        "       'batsman_Ankit Sharma':[0], 'batsman_Ankit Soni':[0], 'batsman_Anureet Singh':[0],\n",
        "       'batsman_Azhar Mahmood':[0], 'batsman_B Akhil':[0], 'batsman_B Chipli':[0],\n",
        "       'batsman_B Kumar':[0], 'batsman_B Lee':[0], 'batsman_B Sumanth':[0],\n",
        "       'batsman_BA Bhatt':[0], 'batsman_BA Stokes':[0], 'batsman_BAW Mendis':[0],\n",
        "       'batsman_BB McCullum':[0], 'batsman_BB Samantray':[0], 'batsman_BB Sran':[0],\n",
        "       'batsman_BCJ Cutting':[0], 'batsman_BE Hendricks':[0], 'batsman_BJ Haddin':[0],\n",
        "       'batsman_BJ Hodge':[0], 'batsman_BJ Rohrer':[0], 'batsman_BMAJ Mendis':[0],\n",
        "       'batsman_BR Dunk':[0], 'batsman_Basil Thampi':[0], 'batsman_Bipul Sharma':[0],\n",
        "       'batsman_C Madan':[0], 'batsman_C Munro':[0], 'batsman_C de Grandhomme':[0],\n",
        "       'batsman_CA Lynn':[0], 'batsman_CA Pujara':[0], 'batsman_CH Gayle':[0],\n",
        "       'batsman_CH Morris':[0], 'batsman_CJ Anderson':[0], 'batsman_CJ Ferguson':[0],\n",
        "       'batsman_CJ McKay':[0], 'batsman_CK Kapugedera':[0], 'batsman_CL White':[0],\n",
        "       'batsman_CM Gautam':[0], 'batsman_CR Brathwaite':[0], 'batsman_CR Woakes':[0],\n",
        "       'batsman_D Kalyankrishna':[0], 'batsman_D Salunkhe':[0], 'batsman_D Wiese':[0],\n",
        "       'batsman_D du Preez':[0], 'batsman_DA Miller':[0], 'batsman_DA Warner':[0],\n",
        "       'batsman_DB Das':[0], 'batsman_DB Ravi Teja':[0], 'batsman_DE Bollinger':[0],\n",
        "       'batsman_DH Yagnik':[0], 'batsman_DJ Bravo':[0], 'batsman_DJ Harris':[0],\n",
        "       'batsman_DJ Hooda':[0], 'batsman_DJ Hussey':[0], 'batsman_DJ Jacobs':[0],\n",
        "       'batsman_DJ Muthuswami':[0], 'batsman_DJ Thornely':[0], 'batsman_DJG Sammy':[0],\n",
        "       'batsman_DL Vettori':[0], 'batsman_DNT Zoysa':[0], 'batsman_DPMD Jayawardene':[0],\n",
        "       'batsman_DR Martyn':[0], 'batsman_DR Smith':[0], 'batsman_DS Kulkarni':[0],\n",
        "       'batsman_DS Lehmann':[0], 'batsman_DT Christian':[0], 'batsman_DT Patil':[0],\n",
        "       'batsman_DW Steyn':[0], 'batsman_EJG Morgan':[0], 'batsman_ER Dwivedi':[0],\n",
        "       'batsman_F Behardien':[0], 'batsman_F du Plessis':[0], 'batsman_FH Edwards':[0],\n",
        "       'batsman_FY Fazal':[0], 'batsman_G Gambhir':[0], 'batsman_GC Smith':[0],\n",
        "       'batsman_GH Vihari':[0], 'batsman_GJ Bailey':[0], 'batsman_GJ Maxwell':[0],\n",
        "       'batsman_GR Napier':[0], 'batsman_Gurkeerat Singh':[0], 'batsman_HH Gibbs':[0],\n",
        "       'batsman_HH Pandya':[0], 'batsman_HM Amla':[0], 'batsman_HV Patel':[0],\n",
        "       'batsman_Harbhajan Singh':[0], 'batsman_Harmeet Singh':[0],\n",
        "       'batsman_Harpreet Singh':[0], 'batsman_I Malhotra':[0], 'batsman_I Sharma':[0],\n",
        "       'batsman_IK Pathan':[0], 'batsman_IR Jaggi':[0], 'batsman_Imran Tahir':[0],\n",
        "       'batsman_Iqbal Abdulla':[0], 'batsman_Ishan Kishan':[0], 'batsman_J Arunkumar':[0],\n",
        "       'batsman_J Botha':[0], 'batsman_J Suchith':[0], 'batsman_J Theron':[0],\n",
        "       'batsman_J Yadav':[0], 'batsman_JA Morkel':[0], 'batsman_JC Buttler':[0],\n",
        "       'batsman_JD Ryder':[0], 'batsman_JD Unadkat':[0], 'batsman_JDP Oram':[0],\n",
        "       'batsman_JDS Neesham':[0], 'batsman_JE Taylor':[0], 'batsman_JEC Franklin':[0],\n",
        "       'batsman_JH Kallis':[0], 'batsman_JJ Bumrah':[0], 'batsman_JJ Roy':[0],\n",
        "       'batsman_JO Holder':[0], 'batsman_JP Duminy':[0], 'batsman_JP Faulkner':[0],\n",
        "       'batsman_JR Hopes':[0], 'batsman_Jaskaran Singh':[0], 'batsman_Joginder Sharma':[0],\n",
        "       'batsman_K Goel':[0], 'batsman_K Rabada':[0], 'batsman_KA Pollard':[0],\n",
        "       'batsman_KB Arun Karthik':[0], 'batsman_KC Cariappa':[0],\n",
        "       'batsman_KC Sangakkara':[0], 'batsman_KD Karthik':[0], 'batsman_KH Pandya':[0],\n",
        "       'batsman_KJ Abbott':[0], 'batsman_KK Cooper':[0], 'batsman_KK Nair':[0],\n",
        "       'batsman_KL Rahul':[0], 'batsman_KM Jadhav':[0], 'batsman_KP Appanna':[0],\n",
        "       'batsman_KP Pietersen':[0], 'batsman_KS Williamson':[0], 'batsman_KV Sharma':[0],\n",
        "       'batsman_KW Richardson':[0], 'batsman_Kamran Akmal':[0],\n",
        "       'batsman_Kuldeep Yadav':[0], 'batsman_L Balaji':[0], 'batsman_L Ronchi':[0],\n",
        "       'batsman_LA Carseldine':[0], 'batsman_LA Pomersbach':[0], 'batsman_LH Ferguson':[0],\n",
        "       'batsman_LJ Wright':[0], 'batsman_LMP Simmons':[0], 'batsman_LPC Silva':[0],\n",
        "       'batsman_LR Shukla':[0], 'batsman_LRPL Taylor':[0], 'batsman_M Kaif':[0],\n",
        "       'batsman_M Kartik':[0], 'batsman_M Klinger':[0], 'batsman_M Manhas':[0],\n",
        "       'batsman_M Morkel':[0], 'batsman_M Muralitharan':[0], 'batsman_M Ntini':[0],\n",
        "       'batsman_M Rawat':[0], 'batsman_M Vijay':[0], 'batsman_M Vohra':[0],\n",
        "       'batsman_M de Lange':[0], 'batsman_MA Agarwal':[0], 'batsman_MA Khote':[0],\n",
        "       'batsman_MA Starc':[0], 'batsman_MC Henriques':[0], 'batsman_MC Juneja':[0],\n",
        "       'batsman_MD Mishra':[0], 'batsman_MDKJ Perera':[0], 'batsman_MEK Hussey':[0],\n",
        "       'batsman_MF Maharoof':[0], 'batsman_MG Johnson':[0], 'batsman_MJ Clarke':[0],\n",
        "       'batsman_MJ Guptill':[0], 'batsman_MJ Lumb':[0], 'batsman_MJ McClenaghan':[0],\n",
        "       'batsman_MK Pandey':[0], 'batsman_MK Tiwary':[0], 'batsman_ML Hayden':[0],\n",
        "       'batsman_MM Patel':[0], 'batsman_MM Sharma':[0], 'batsman_MN Samuels':[0],\n",
        "       'batsman_MN van Wyk':[0], 'batsman_MP Stoinis':[0], 'batsman_MR Marsh':[0],\n",
        "       'batsman_MS Bisla':[0], 'batsman_MS Dhoni':[1], 'batsman_MS Gony':[0],\n",
        "       'batsman_MS Wade':[0], 'batsman_MV Boucher':[0], 'batsman_Mandeep Singh':[0],\n",
        "       'batsman_Mashrafe Mortaza':[0], 'batsman_Misbah-ul-Haq':[0],\n",
        "       'batsman_Mohammad Ashraful':[0], 'batsman_Mohammad Hafeez':[0],\n",
        "       'batsman_Mohammad Nabi':[0], 'batsman_Mohammed Shami':[0], 'batsman_N Rana':[0],\n",
        "       'batsman_N Saini':[0], 'batsman_ND Doshi':[0], 'batsman_NJ Rimmington':[0],\n",
        "       'batsman_NL McCullum':[0], 'batsman_NLTC Perera':[0], 'batsman_NM Coulter-Nile':[0],\n",
        "       'batsman_NS Naik':[0], 'batsman_NV Ojha':[0], 'batsman_Niraj Patel':[0],\n",
        "       'batsman_OA Shah':[0], 'batsman_P Awana':[0], 'batsman_P Dogra':[0],\n",
        "       'batsman_P Kumar':[0], 'batsman_P Negi':[0], 'batsman_P Parameswaran':[0],\n",
        "       'batsman_P Sahu':[0], 'batsman_PA Patel':[0], 'batsman_PA Reddy':[0],\n",
        "       'batsman_PC Valthaty':[0], 'batsman_PD Collingwood':[0], 'batsman_PJ Cummins':[0],\n",
        "       'batsman_PJ Sangwan':[0], 'batsman_PP Chawla':[0], 'batsman_PP Ojha':[0],\n",
        "       'batsman_PR Shah':[0], 'batsman_PSP Handscomb':[0], 'batsman_PV Tambe':[0],\n",
        "       'batsman_Pankaj Singh':[0], 'batsman_Parvez Rasool':[0], 'batsman_Q de Kock':[0],\n",
        "       'batsman_R Ashwin':[0], 'batsman_R Bhatia':[0], 'batsman_R Bishnoi':[0],\n",
        "       'batsman_R Dhawan':[0], 'batsman_R Dravid':[0], 'batsman_R McLaren':[0],\n",
        "       'batsman_R Rampaul':[0], 'batsman_R Sathish':[0], 'batsman_R Sharma':[0],\n",
        "       'batsman_R Shukla':[0], 'batsman_R Tewatia':[0], 'batsman_R Vinay Kumar':[0],\n",
        "       'batsman_RA Jadeja':[0], 'batsman_RA Tripathi':[0], 'batsman_RD Chahar':[0],\n",
        "       'batsman_RE Levi':[0], 'batsman_RE van der Merwe':[0], 'batsman_RG More':[0],\n",
        "       'batsman_RG Sharma':[0], 'batsman_RJ Harris':[0], 'batsman_RJ Peterson':[0],\n",
        "       'batsman_RJ Quiney':[0], 'batsman_RN ten Doeschate':[0], 'batsman_RP Singh':[0],\n",
        "       'batsman_RR Bhatkal':[0], 'batsman_RR Pant':[0], 'batsman_RR Powar':[0],\n",
        "       'batsman_RR Raje':[0], 'batsman_RR Rossouw':[0], 'batsman_RR Sarwan':[0],\n",
        "       'batsman_RS Bopara':[0], 'batsman_RT Ponting':[0], 'batsman_RV Gomez':[0],\n",
        "       'batsman_RV Uthappa':[0], 'batsman_Rashid Khan':[0], 'batsman_S Anirudha':[0],\n",
        "       'batsman_S Aravind':[0], 'batsman_S Badree':[0], 'batsman_S Badrinath':[0],\n",
        "       'batsman_S Chanderpaul':[0], 'batsman_S Dhawan':[0], 'batsman_S Gopal':[0],\n",
        "       'batsman_S Nadeem':[0], 'batsman_S Narwal':[0], 'batsman_S Rana':[0],\n",
        "       'batsman_S Sohal':[0], 'batsman_S Sreesanth':[0], 'batsman_S Vidyut':[0],\n",
        "       'batsman_SA Abbott':[0], 'batsman_SA Asnodkar':[0], 'batsman_SA Yadav':[0],\n",
        "       'batsman_SB Bangar':[0], 'batsman_SB Jakati':[0], 'batsman_SB Joshi':[0],\n",
        "       'batsman_SB Styris':[0], 'batsman_SB Wagh':[0], 'batsman_SC Ganguly':[0],\n",
        "       'batsman_SD Chitnis':[0], 'batsman_SE Marsh':[0], 'batsman_SJ Srivastava':[0],\n",
        "       'batsman_SK Raina':[0], 'batsman_SK Trivedi':[0], 'batsman_SK Warne':[0],\n",
        "       'batsman_SL Malinga':[0], 'batsman_SM Harwood':[0], 'batsman_SM Katich':[0],\n",
        "       'batsman_SM Pollock':[0], 'batsman_SMSM Senanayake':[0], 'batsman_SN Khan':[0],\n",
        "       'batsman_SN Thakur':[0], 'batsman_SP Fleming':[0], 'batsman_SP Goswami':[0],\n",
        "       'batsman_SP Jackson':[0], 'batsman_SP Narine':[0], 'batsman_SPD Smith':[0],\n",
        "       'batsman_SR Tendulkar':[0], 'batsman_SR Watson':[0], 'batsman_SS Iyer':[0],\n",
        "       'batsman_SS Tiwary':[0], 'batsman_ST Jayasuriya':[0], 'batsman_STR Binny':[0],\n",
        "       'batsman_SV Samson':[0], 'batsman_SW Billings':[0], 'batsman_SW Tait':[0],\n",
        "       'batsman_Sachin Baby':[0], 'batsman_Salman Butt':[0], 'batsman_Sandeep Sharma':[0],\n",
        "       'batsman_Shahid Afridi':[0], 'batsman_Shakib Al Hasan':[0],\n",
        "       'batsman_Shivam Sharma':[0], 'batsman_Shoaib Ahmed':[0],\n",
        "       'batsman_Shoaib Akhtar':[0], 'batsman_Shoaib Malik':[0],\n",
        "       'batsman_Sohail Tanvir':[0], 'batsman_Sunny Singh':[0], 'batsman_Swapnil Singh':[0],\n",
        "       'batsman_T Henderson':[0], 'batsman_T Kohli':[0], 'batsman_T Taibu':[0],\n",
        "       'batsman_T Thushara':[0], 'batsman_TD Paine':[0], 'batsman_TG Southee':[0],\n",
        "       'batsman_TL Suman':[0], 'batsman_TM Dilshan':[0], 'batsman_TM Head':[0],\n",
        "       'batsman_TM Srivastava':[0], 'batsman_TR Birt':[0], 'batsman_TS Mills':[0],\n",
        "       'batsman_UBT Chand':[0], 'batsman_UT Khawaja':[0], 'batsman_UT Yadav':[0],\n",
        "       'batsman_Umar Gul':[0], 'batsman_V Kohli':[0], 'batsman_V Pratap Singh':[0],\n",
        "       'batsman_V Sehwag':[0], 'batsman_V Shankar':[0], 'batsman_VH Zol':[0],\n",
        "       'batsman_VR Aaron':[0], 'batsman_VRV Singh':[0], 'batsman_VS Malik':[0],\n",
        "       'batsman_VVS Laxman':[0], 'batsman_VY Mahesh':[0], 'batsman_Vishnu Vinod':[0],\n",
        "       'batsman_W Jaffer':[0], 'batsman_WA Mota':[0], 'batsman_WD Parnell':[0],\n",
        "       'batsman_WP Saha':[0], 'batsman_WPUJC Vaas':[0], 'batsman_Washington Sundar':[0],\n",
        "       'batsman_X Thalaivan Sargunam':[0], 'batsman_Y Nagar':[0],\n",
        "       'batsman_Y Venugopal Rao':[0], 'batsman_YA Abdulla':[0], 'batsman_YK Pathan':[0],\n",
        "       'batsman_YS Chahal':[0], 'batsman_YV Takawale':[0], 'batsman_Yashpal Singh':[0],\n",
        "       'batsman_Yuvraj Singh':[0], 'batsman_Z Khan':[0], 'bowler_A Ashish Reddy':[0],\n",
        "       'bowler_A Chandila':[0], 'bowler_A Choudhary':[0], 'bowler_A Flintoff':[0],\n",
        "       'bowler_A Kumble':[0], 'bowler_A Mishra':[0], 'bowler_A Mithun':[0],\n",
        "       'bowler_A Nehra':[0], 'bowler_A Singh':[0], 'bowler_A Symonds':[0],\n",
        "       'bowler_A Uniyal':[0], 'bowler_A Zampa':[0], 'bowler_AA Chavan':[0],\n",
        "       'bowler_AA Jhunjhunwala':[0], 'bowler_AA Kazi':[0], 'bowler_AA Noffke':[0],\n",
        "       'bowler_AB Agarkar':[0], 'bowler_AB Dinda':[0], 'bowler_AB McDonald':[0],\n",
        "       'bowler_AC Thomas':[0], 'bowler_AC Voges':[0], 'bowler_AD Mascarenhas':[0],\n",
        "       'bowler_AD Mathews':[0], 'bowler_AD Russell':[0], 'bowler_AF Milne':[0],\n",
        "       'bowler_AG Murtaza':[0], 'bowler_AJ Finch':[0], 'bowler_AJ Tye':[0],\n",
        "       'bowler_AL Menaria':[0], 'bowler_AM Nayar':[0], 'bowler_AM Rahane':[0],\n",
        "       'bowler_AM Salvi':[0], 'bowler_AN Ahmed':[0], 'bowler_AP Dole':[0],\n",
        "       'bowler_AR Patel':[0], 'bowler_AS Rajpoot':[0], 'bowler_AS Raut':[0],\n",
        "       'bowler_AUK Pathan':[0], 'bowler_Abdur Razzak':[0], 'bowler_Anand Rajan':[0],\n",
        "       'bowler_Ankit Sharma':[0], 'bowler_Ankit Soni':[0], 'bowler_Anureet Singh':[0],\n",
        "       'bowler_Azhar Mahmood':[0], 'bowler_B Akhil':[0], 'bowler_B Geeves':[0],\n",
        "       'bowler_B Kumar':[0], 'bowler_B Laughlin':[0], 'bowler_B Lee':[0],\n",
        "       'bowler_BA Bhatt':[0], 'bowler_BA Stokes':[0], 'bowler_BAW Mendis':[0],\n",
        "       'bowler_BB Sran':[0], 'bowler_BCJ Cutting':[0], 'bowler_BE Hendricks':[0],\n",
        "       'bowler_BJ Hodge':[0], 'bowler_BMAJ Mendis':[0], 'bowler_BW Hilfenhaus':[0],\n",
        "       'bowler_Basil Thampi':[0], 'bowler_Bipul Sharma':[0], 'bowler_C Ganapathy':[0],\n",
        "       'bowler_C Munro':[0], 'bowler_C Nanda':[0], 'bowler_C de Grandhomme':[0],\n",
        "       'bowler_CH Gayle':[0], 'bowler_CH Morris':[0], 'bowler_CJ Anderson':[0],\n",
        "       'bowler_CJ Jordan':[0], 'bowler_CJ McKay':[0], 'bowler_CK Kapugedera':[0],\n",
        "       'bowler_CK Langeveldt':[0], 'bowler_CL White':[0], 'bowler_CR Brathwaite':[0],\n",
        "       'bowler_CR Woakes':[0], 'bowler_CRD Fernando':[0], 'bowler_D Kalyankrishna':[0],\n",
        "       'bowler_D Salunkhe':[0], 'bowler_D Wiese':[0], 'bowler_D du Preez':[0],\n",
        "       'bowler_DAJ Bracewell':[0], 'bowler_DB Ravi Teja':[0], 'bowler_DE Bollinger':[0],\n",
        "       'bowler_DJ Bravo':[0], 'bowler_DJ Harris':[0], 'bowler_DJ Hooda':[0],\n",
        "       'bowler_DJ Hussey':[0], 'bowler_DJ Muthuswami':[0], 'bowler_DJ Thornely':[0],\n",
        "       'bowler_DJG Sammy':[0], 'bowler_DL Chahar':[0], 'bowler_DL Vettori':[0],\n",
        "       'bowler_DNT Zoysa':[0], 'bowler_DP Nannes':[0], 'bowler_DP Vijaykumar':[0],\n",
        "       'bowler_DR Smith':[0], 'bowler_DS Kulkarni':[0], 'bowler_DT Christian':[0],\n",
        "       'bowler_DW Steyn':[0], 'bowler_FH Edwards':[0], 'bowler_FY Fazal':[0],\n",
        "       'bowler_GB Hogg':[0], 'bowler_GD McGrath':[0], 'bowler_GH Vihari':[0],\n",
        "       'bowler_GJ Maxwell':[0], 'bowler_GS Sandhu':[0], 'bowler_Gagandeep Singh':[0],\n",
        "       'bowler_Gurkeerat Singh':[0], 'bowler_HH Pandya':[0], 'bowler_HV Patel':[0],\n",
        "       'bowler_Harbhajan Singh':[0], 'bowler_Harmeet Singh':[0], 'bowler_I Sharma':[0],\n",
        "       'bowler_IC Pandey':[0], 'bowler_IK Pathan':[0], 'bowler_Imran Tahir':[0],\n",
        "       'bowler_Iqbal Abdulla':[0], 'bowler_J Botha':[0], 'bowler_J Suchith':[0],\n",
        "       'bowler_J Syed Mohammad':[0], 'bowler_J Theron':[0], 'bowler_J Yadav':[0],\n",
        "       'bowler_JA Morkel':[0], 'bowler_JD Ryder':[0], 'bowler_JD Unadkat':[0],\n",
        "       'bowler_JDP Oram':[0], 'bowler_JDS Neesham':[0], 'bowler_JE Taylor':[0],\n",
        "       'bowler_JEC Franklin':[0], 'bowler_JH Kallis':[0], 'bowler_JJ Bumrah':[0],\n",
        "       'bowler_JJ van der Wath':[0], 'bowler_JM Kemp':[0], 'bowler_JO Holder':[0],\n",
        "       'bowler_JP Duminy':[0], 'bowler_JP Faulkner':[0], 'bowler_JR Hopes':[0],\n",
        "       'bowler_JW Hastings':[0], 'bowler_Jaskaran Singh':[0], 'bowler_Joginder Sharma':[0],\n",
        "       'bowler_K Goel':[0], 'bowler_K Rabada':[0], 'bowler_K Santokie':[0],\n",
        "       'bowler_K Upadhyay':[0], 'bowler_KA Pollard':[0], 'bowler_KAJ Roach':[0],\n",
        "       'bowler_KC Cariappa':[0], 'bowler_KH Pandya':[0], 'bowler_KJ Abbott':[0],\n",
        "       'bowler_KK Cooper':[0], 'bowler_KMDN Kulasekara':[0], 'bowler_KP Appanna':[0],\n",
        "       'bowler_KP Pietersen':[0], 'bowler_KS Williamson':[0], 'bowler_KV Sharma':[0],\n",
        "       'bowler_KW Richardson':[0], 'bowler_Kamran Khan':[0], 'bowler_Karanveer Singh':[0],\n",
        "       'bowler_Kuldeep Yadav':[0], 'bowler_L Ablish':[0], 'bowler_L Balaji':[0],\n",
        "       'bowler_LA Carseldine':[0], 'bowler_LH Ferguson':[0], 'bowler_LJ Wright':[0],\n",
        "       'bowler_LR Shukla':[0], 'bowler_LRPL Taylor':[0], 'bowler_M Ashwin':[0],\n",
        "       'bowler_M Kartik':[0], 'bowler_M Manhas':[0], 'bowler_M Morkel':[0],\n",
        "       'bowler_M Muralitharan':[0], 'bowler_M Ntini':[0], 'bowler_M Vijay':[0],\n",
        "       'bowler_M de Lange':[0], 'bowler_MA Khote':[0], 'bowler_MA Starc':[0],\n",
        "       'bowler_MC Henriques':[0], 'bowler_MF Maharoof':[0], 'bowler_MG Johnson':[0],\n",
        "       'bowler_MG Neser':[0], 'bowler_MJ Clarke':[0], 'bowler_MJ McClenaghan':[0],\n",
        "       'bowler_MK Tiwary':[0], 'bowler_MM Patel':[0], 'bowler_MM Sharma':[0],\n",
        "       'bowler_MN Samuels':[0], 'bowler_MP Stoinis':[0], 'bowler_MR Marsh':[0],\n",
        "       'bowler_MS Gony':[0], 'bowler_Mohammad Asif':[0], 'bowler_Mohammad Hafeez':[0],\n",
        "       'bowler_Mohammad Nabi':[0], 'bowler_Mohammed Shami':[1],\n",
        "       'bowler_Mohammed Siraj':[0], 'bowler_Mustafizur Rahman':[0], 'bowler_NB Singh':[0],\n",
        "       'bowler_ND Doshi':[0], 'bowler_NL McCullum':[0], 'bowler_NLTC Perera':[0],\n",
        "       'bowler_NM Coulter-Nile':[0], 'bowler_P Amarnath':[0], 'bowler_P Awana':[0],\n",
        "       'bowler_P Kumar':[0], 'bowler_P Negi':[0], 'bowler_P Parameswaran':[0],\n",
        "       'bowler_P Prasanth':[0], 'bowler_P Sahu':[0], 'bowler_P Suyal':[0],\n",
        "       'bowler_PC Valthaty':[0], 'bowler_PD Collingwood':[0], 'bowler_PJ Cummins':[0],\n",
        "       'bowler_PJ Sangwan':[0], 'bowler_PM Sarvesh Kumar':[0], 'bowler_PP Chawla':[0],\n",
        "       'bowler_PP Ojha':[0], 'bowler_PV Tambe':[0], 'bowler_Pankaj Singh':[0],\n",
        "       'bowler_Parvez Rasool':[0], 'bowler_R Ashwin':[0], 'bowler_R Bhatia':[0],\n",
        "       'bowler_R Dhawan':[0], 'bowler_R McLaren':[0], 'bowler_R Ninan':[0],\n",
        "       'bowler_R Rampaul':[0], 'bowler_R Sathish':[0], 'bowler_R Sharma':[0],\n",
        "       'bowler_R Shukla':[0], 'bowler_R Tewatia':[0], 'bowler_R Vinay Kumar':[0],\n",
        "       'bowler_RA Jadeja':[0], 'bowler_RE van der Merwe':[0], 'bowler_RG More':[0],\n",
        "       'bowler_RG Sharma':[0], 'bowler_RJ Harris':[0], 'bowler_RJ Peterson':[0],\n",
        "       'bowler_RN ten Doeschate':[0], 'bowler_RP Singh':[0], 'bowler_RR Bose':[0],\n",
        "       'bowler_RR Powar':[0], 'bowler_RR Raje':[0], 'bowler_RS Bopara':[0],\n",
        "       'bowler_RS Gavaskar':[0], 'bowler_RV Gomez':[0], 'bowler_RW Price':[0],\n",
        "       'bowler_Rashid Khan':[0], 'bowler_S Aravind':[0], 'bowler_S Badree':[0],\n",
        "       'bowler_S Dhawan':[0], 'bowler_S Gopal':[0], 'bowler_S Kaul':[0],\n",
        "       'bowler_S Kaushik':[0], 'bowler_S Ladda':[0], 'bowler_S Nadeem':[0],\n",
        "       'bowler_S Narwal':[0], 'bowler_S Rana':[0], 'bowler_S Randiv':[0],\n",
        "       'bowler_S Sreesanth':[0], 'bowler_S Sriram':[0], 'bowler_S Tyagi':[0],\n",
        "       'bowler_SA Abbott':[0], 'bowler_SA Yadav':[0], 'bowler_SB Bangar':[0],\n",
        "       'bowler_SB Jakati':[0], 'bowler_SB Joshi':[0], 'bowler_SB Styris':[0],\n",
        "       'bowler_SB Wagh':[0], 'bowler_SC Ganguly':[0], 'bowler_SD Chitnis':[0],\n",
        "       'bowler_SE Bond':[0], 'bowler_SJ Srivastava':[0], 'bowler_SK Raina':[0],\n",
        "       'bowler_SK Trivedi':[0], 'bowler_SK Warne':[0], 'bowler_SL Malinga':[0],\n",
        "       'bowler_SM Boland':[0], 'bowler_SM Harwood':[0], 'bowler_SM Pollock':[0],\n",
        "       'bowler_SMSM Senanayake':[0], 'bowler_SN Thakur':[0], 'bowler_SP Narine':[0],\n",
        "       'bowler_SR Tendulkar':[0], 'bowler_SR Watson':[0], 'bowler_SS Agarwal':[0],\n",
        "       'bowler_SS Sarkar':[0], 'bowler_ST Jayasuriya':[0], 'bowler_STR Binny':[0],\n",
        "       'bowler_SW Tait':[0], 'bowler_Sandeep Sharma':[0], 'bowler_Shahid Afridi':[0],\n",
        "       'bowler_Shakib Al Hasan':[0], 'bowler_Shivam Sharma':[0], 'bowler_Shoaib Ahmed':[0],\n",
        "       'bowler_Shoaib Malik':[0], 'bowler_Sohail Tanvir':[0], 'bowler_Sunny Gupta':[0],\n",
        "       'bowler_Swapnil Singh':[0], 'bowler_T Henderson':[0], 'bowler_T Natarajan':[0],\n",
        "       'bowler_T Shamsi':[0], 'bowler_T Thushara':[0], 'bowler_TA Boult':[0],\n",
        "       'bowler_TG Southee':[0], 'bowler_TL Suman':[0], 'bowler_TM Dilshan':[0],\n",
        "       'bowler_TM Head':[0], 'bowler_TP Sudhindra':[0], 'bowler_TS Mills':[0],\n",
        "       'bowler_UT Yadav':[0], 'bowler_Umar Gul':[0], 'bowler_V Kohli':[0],\n",
        "       'bowler_V Pratap Singh':[0], 'bowler_V Sehwag':[0], 'bowler_V Shankar':[0],\n",
        "       'bowler_VR Aaron':[0], 'bowler_VRV Singh':[0], 'bowler_VS Malik':[0],\n",
        "       'bowler_VS Yeligati':[0], 'bowler_VY Mahesh':[0], 'bowler_WA Mota':[0],\n",
        "       'bowler_WD Parnell':[0], 'bowler_WPUJC Vaas':[0], 'bowler_Washington Sundar':[0],\n",
        "       'bowler_Y Gnaneswara Rao':[0], 'bowler_Y Nagar':[0], 'bowler_Y Venugopal Rao':[0],\n",
        "       'bowler_YA Abdulla':[0], 'bowler_YK Pathan':[0], 'bowler_YS Chahal':[0],\n",
        "       'bowler_Yuvraj Singh':[0], 'bowler_Z Khan':[0]})"
      ],
      "execution_count": null,
      "outputs": []
    },
    {
      "cell_type": "code",
      "metadata": {
        "id": "YObgjHXQpOsT"
      },
      "source": [
        "scaled_data=scaler.transform(data)"
      ],
      "execution_count": null,
      "outputs": []
    },
    {
      "cell_type": "code",
      "metadata": {
        "id": "_ruKcPPmpOsW",
        "outputId": "d6b7ff12-0b27-4f3d-f67d-043cefa55ee1"
      },
      "source": [
        "forest.predict(scaled_data)"
      ],
      "execution_count": null,
      "outputs": [
        {
          "data": {
            "text/plain": [
              "array([179.54])"
            ]
          },
          "execution_count": 67,
          "metadata": {},
          "output_type": "execute_result"
        }
      ]
    }
  ]
}